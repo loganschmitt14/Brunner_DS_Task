{
 "cells": [
  {
   "cell_type": "markdown",
   "id": "cccd136b-339d-4f13-98c2-6f950dda23cc",
   "metadata": {},
   "source": [
    "### More detailed weather data ###\n",
    "I want to determine how many weekdays per year, over the last 10 years, were suitable for biking. This means no precipitation during the morning or evening commute window and temperatures above freezing based on Eric's observed preferences. \n",
    "\n",
    "I really rushed through this so I made a lot of sloppier transformations in the interest of time."
   ]
  },
  {
   "cell_type": "code",
   "execution_count": 205,
   "id": "a4a8b871-423e-441d-b430-ebd5c2830757",
   "metadata": {},
   "outputs": [],
   "source": [
    "import arviz as az\n",
    "import xarray as xr\n",
    "import pandas as pd\n",
    "import scipy\n",
    "import datetime as dt\n",
    "from weather import get_pgh_weather, get_riding_days\n",
    "import matplotlib.pyplot as plt\n",
    "import numpy as np\n",
    "import seaborn as sns\n",
    "import warnings\n",
    "from matplotlib.dates import MonthLocator, YearLocator, DateFormatter\n",
    "import pymc as pm\n",
    "import ipywidgets\n",
    "from circular_hist import circular_hist\n",
    "#from sklearn.preprocessing import StandardScaler\n",
    "warnings.simplefilter(action='ignore', category=FutureWarning)"
   ]
  },
  {
   "cell_type": "code",
   "execution_count": 2,
   "id": "ce9b165a-641d-48c4-a8b7-c70c64c89435",
   "metadata": {},
   "outputs": [],
   "source": [
    "start_date = dt.datetime(2014, 1, 1)\n",
    "end_date = dt.datetime(2023, 12, 31)"
   ]
  },
  {
   "cell_type": "code",
   "execution_count": 6,
   "id": "84c12635-8396-46d1-9a8a-000b26cd87cf",
   "metadata": {},
   "outputs": [],
   "source": [
    "# hourly = get_riding_days(start_date, end_date)"
   ]
  },
  {
   "cell_type": "code",
   "execution_count": 8,
   "id": "71dbe56f-2062-484e-8193-874214ff8688",
   "metadata": {},
   "outputs": [],
   "source": [
    "# hourly.to_csv('hourly.csv')"
   ]
  },
  {
   "cell_type": "code",
   "execution_count": 54,
   "id": "470d2e05-1ca8-4b03-b61c-6ce56cbfd1fb",
   "metadata": {},
   "outputs": [],
   "source": [
    "hourly = pd.read_csv('hourly.csv', index_col = 0).reset_index(drop = True)"
   ]
  },
  {
   "cell_type": "code",
   "execution_count": 55,
   "id": "b0d78bee-acca-4457-ae9c-357e40089910",
   "metadata": {},
   "outputs": [
    {
     "data": {
      "text/html": [
       "<div>\n",
       "<style scoped>\n",
       "    .dataframe tbody tr th:only-of-type {\n",
       "        vertical-align: middle;\n",
       "    }\n",
       "\n",
       "    .dataframe tbody tr th {\n",
       "        vertical-align: top;\n",
       "    }\n",
       "\n",
       "    .dataframe thead th {\n",
       "        text-align: right;\n",
       "    }\n",
       "</style>\n",
       "<table border=\"1\" class=\"dataframe\">\n",
       "  <thead>\n",
       "    <tr style=\"text-align: right;\">\n",
       "      <th></th>\n",
       "      <th>datetime</th>\n",
       "      <th>temp</th>\n",
       "      <th>weather_code</th>\n",
       "      <th>year</th>\n",
       "    </tr>\n",
       "  </thead>\n",
       "  <tbody>\n",
       "    <tr>\n",
       "      <th>0</th>\n",
       "      <td>2014-01-01 06:00:00+00:00</td>\n",
       "      <td>24.107000</td>\n",
       "      <td>2.0</td>\n",
       "      <td>2014</td>\n",
       "    </tr>\n",
       "    <tr>\n",
       "      <th>1</th>\n",
       "      <td>2014-01-01 07:00:00+00:00</td>\n",
       "      <td>24.557001</td>\n",
       "      <td>1.0</td>\n",
       "      <td>2014</td>\n",
       "    </tr>\n",
       "    <tr>\n",
       "      <th>2</th>\n",
       "      <td>2014-01-01 17:00:00+00:00</td>\n",
       "      <td>32.927000</td>\n",
       "      <td>2.0</td>\n",
       "      <td>2014</td>\n",
       "    </tr>\n",
       "    <tr>\n",
       "      <th>3</th>\n",
       "      <td>2014-01-01 18:00:00+00:00</td>\n",
       "      <td>35.177002</td>\n",
       "      <td>2.0</td>\n",
       "      <td>2014</td>\n",
       "    </tr>\n",
       "    <tr>\n",
       "      <th>4</th>\n",
       "      <td>2014-01-02 06:00:00+00:00</td>\n",
       "      <td>26.807000</td>\n",
       "      <td>2.0</td>\n",
       "      <td>2014</td>\n",
       "    </tr>\n",
       "  </tbody>\n",
       "</table>\n",
       "</div>"
      ],
      "text/plain": [
       "                    datetime       temp  weather_code  year\n",
       "0  2014-01-01 06:00:00+00:00  24.107000           2.0  2014\n",
       "1  2014-01-01 07:00:00+00:00  24.557001           1.0  2014\n",
       "2  2014-01-01 17:00:00+00:00  32.927000           2.0  2014\n",
       "3  2014-01-01 18:00:00+00:00  35.177002           2.0  2014\n",
       "4  2014-01-02 06:00:00+00:00  26.807000           2.0  2014"
      ]
     },
     "execution_count": 55,
     "metadata": {},
     "output_type": "execute_result"
    }
   ],
   "source": [
    "hourly.head()"
   ]
  },
  {
   "cell_type": "code",
   "execution_count": 56,
   "id": "1818caf3-fcb2-442f-ac22-13b9cb7ceba7",
   "metadata": {},
   "outputs": [
    {
     "data": {
      "text/plain": [
       "(14608, 4)"
      ]
     },
     "execution_count": 56,
     "metadata": {},
     "output_type": "execute_result"
    }
   ],
   "source": [
    "hourly.shape"
   ]
  },
  {
   "cell_type": "code",
   "execution_count": 57,
   "id": "28943be0-6b3c-407a-83af-daba84153d76",
   "metadata": {},
   "outputs": [
    {
     "data": {
      "text/plain": [
       "3652.0"
      ]
     },
     "execution_count": 57,
     "metadata": {},
     "output_type": "execute_result"
    }
   ],
   "source": [
    "# Num days\n",
    "(hourly.shape[0]) / 4"
   ]
  },
  {
   "cell_type": "code",
   "execution_count": 58,
   "id": "ef852ea5-3697-405d-9233-51192700283c",
   "metadata": {},
   "outputs": [
    {
     "data": {
      "text/plain": [
       "datetime         object\n",
       "temp            float64\n",
       "weather_code    float64\n",
       "year              int64\n",
       "dtype: object"
      ]
     },
     "execution_count": 58,
     "metadata": {},
     "output_type": "execute_result"
    }
   ],
   "source": [
    "hourly.dtypes"
   ]
  },
  {
   "cell_type": "code",
   "execution_count": 59,
   "id": "d9bbfc55-c450-45aa-b70e-e6e514951041",
   "metadata": {},
   "outputs": [],
   "source": [
    "# Not too rainy, dusty, snowy, icy, etc.\n",
    "rideable_codes = [0, 1, 2, 3, 5, 10, 11, 20, 40, 41, 42, 43, 44, 45, 50, 52, 58, 60, 70, 91]"
   ]
  },
  {
   "cell_type": "code",
   "execution_count": 177,
   "id": "3833b5db-c973-4fde-b7e9-43883e9c34d6",
   "metadata": {},
   "outputs": [],
   "source": [
    "rideable_days = (hourly\n",
    "                 .loc[hourly['weather_code'].isin(rideable_codes)]\n",
    "                )"
   ]
  },
  {
   "cell_type": "code",
   "execution_count": 206,
   "id": "bff87d61-1136-482d-886b-3df1cfcd84b7",
   "metadata": {},
   "outputs": [
    {
     "data": {
      "text/plain": [
       "(11495, 7)"
      ]
     },
     "execution_count": 206,
     "metadata": {},
     "output_type": "execute_result"
    }
   ],
   "source": [
    "rideable_days.shape"
   ]
  },
  {
   "cell_type": "code",
   "execution_count": 63,
   "id": "17b388f5-c1c0-4d01-8242-7faf42762a40",
   "metadata": {},
   "outputs": [],
   "source": [
    "def assign_time(row):\n",
    "    hour = dt.datetime.strptime(row['datetime'], '%Y-%m-%d %H:%M:%S%z').hour\n",
    "\n",
    "    if hour < 8:\n",
    "        time = 'morning'\n",
    "    else:\n",
    "        time = 'evening'\n",
    "    return time"
   ]
  },
  {
   "cell_type": "code",
   "execution_count": 180,
   "id": "829ec12b-2b6d-4ff6-b427-314206cc76b9",
   "metadata": {},
   "outputs": [],
   "source": [
    "def assign_date(row):\n",
    "    date = dt.datetime.strptime(row['datetime'], '%Y-%m-%d %H:%M:%S%z')\n",
    "    return date"
   ]
  },
  {
   "cell_type": "code",
   "execution_count": 183,
   "id": "f23d8686-10d2-46cb-82c7-1beadec5e53a",
   "metadata": {},
   "outputs": [],
   "source": [
    "def assign_day(row):\n",
    "    day = dt.datetime.strptime(row['datetime'], '%Y-%m-%d %H:%M:%S%z').weekday()\n",
    "    return day"
   ]
  },
  {
   "cell_type": "code",
   "execution_count": 184,
   "id": "68254c35-2678-4e48-b17a-724a3f32ccc4",
   "metadata": {},
   "outputs": [
    {
     "name": "stderr",
     "output_type": "stream",
     "text": [
      "C:\\Users\\logan\\AppData\\Local\\Temp\\ipykernel_24504\\3291392503.py:1: SettingWithCopyWarning: \n",
      "A value is trying to be set on a copy of a slice from a DataFrame.\n",
      "Try using .loc[row_indexer,col_indexer] = value instead\n",
      "\n",
      "See the caveats in the documentation: https://pandas.pydata.org/pandas-docs/stable/user_guide/indexing.html#returning-a-view-versus-a-copy\n",
      "  rideable_days['time'] = rideable_days.apply(lambda x: assign_time(x), axis = 1)\n",
      "C:\\Users\\logan\\AppData\\Local\\Temp\\ipykernel_24504\\3291392503.py:2: SettingWithCopyWarning: \n",
      "A value is trying to be set on a copy of a slice from a DataFrame.\n",
      "Try using .loc[row_indexer,col_indexer] = value instead\n",
      "\n",
      "See the caveats in the documentation: https://pandas.pydata.org/pandas-docs/stable/user_guide/indexing.html#returning-a-view-versus-a-copy\n",
      "  rideable_days['date'] = rideable_days.apply(lambda x: assign_date(x).date(), axis = 1)\n",
      "C:\\Users\\logan\\AppData\\Local\\Temp\\ipykernel_24504\\3291392503.py:3: SettingWithCopyWarning: \n",
      "A value is trying to be set on a copy of a slice from a DataFrame.\n",
      "Try using .loc[row_indexer,col_indexer] = value instead\n",
      "\n",
      "See the caveats in the documentation: https://pandas.pydata.org/pandas-docs/stable/user_guide/indexing.html#returning-a-view-versus-a-copy\n",
      "  rideable_days['weekday'] = rideable_days.apply(lambda x: assign_day(x), axis = 1)\n"
     ]
    },
    {
     "data": {
      "text/html": [
       "<div>\n",
       "<style scoped>\n",
       "    .dataframe tbody tr th:only-of-type {\n",
       "        vertical-align: middle;\n",
       "    }\n",
       "\n",
       "    .dataframe tbody tr th {\n",
       "        vertical-align: top;\n",
       "    }\n",
       "\n",
       "    .dataframe thead th {\n",
       "        text-align: right;\n",
       "    }\n",
       "</style>\n",
       "<table border=\"1\" class=\"dataframe\">\n",
       "  <thead>\n",
       "    <tr style=\"text-align: right;\">\n",
       "      <th></th>\n",
       "      <th>datetime</th>\n",
       "      <th>temp</th>\n",
       "      <th>weather_code</th>\n",
       "      <th>year</th>\n",
       "      <th>time</th>\n",
       "      <th>date</th>\n",
       "      <th>weekday</th>\n",
       "    </tr>\n",
       "  </thead>\n",
       "  <tbody>\n",
       "    <tr>\n",
       "      <th>0</th>\n",
       "      <td>2014-01-01 06:00:00+00:00</td>\n",
       "      <td>24.107000</td>\n",
       "      <td>2.0</td>\n",
       "      <td>2014</td>\n",
       "      <td>morning</td>\n",
       "      <td>2014-01-01</td>\n",
       "      <td>2</td>\n",
       "    </tr>\n",
       "    <tr>\n",
       "      <th>1</th>\n",
       "      <td>2014-01-01 07:00:00+00:00</td>\n",
       "      <td>24.557001</td>\n",
       "      <td>1.0</td>\n",
       "      <td>2014</td>\n",
       "      <td>morning</td>\n",
       "      <td>2014-01-01</td>\n",
       "      <td>2</td>\n",
       "    </tr>\n",
       "    <tr>\n",
       "      <th>2</th>\n",
       "      <td>2014-01-01 17:00:00+00:00</td>\n",
       "      <td>32.927000</td>\n",
       "      <td>2.0</td>\n",
       "      <td>2014</td>\n",
       "      <td>evening</td>\n",
       "      <td>2014-01-01</td>\n",
       "      <td>2</td>\n",
       "    </tr>\n",
       "    <tr>\n",
       "      <th>3</th>\n",
       "      <td>2014-01-01 18:00:00+00:00</td>\n",
       "      <td>35.177002</td>\n",
       "      <td>2.0</td>\n",
       "      <td>2014</td>\n",
       "      <td>evening</td>\n",
       "      <td>2014-01-01</td>\n",
       "      <td>2</td>\n",
       "    </tr>\n",
       "    <tr>\n",
       "      <th>4</th>\n",
       "      <td>2014-01-02 06:00:00+00:00</td>\n",
       "      <td>26.807000</td>\n",
       "      <td>2.0</td>\n",
       "      <td>2014</td>\n",
       "      <td>morning</td>\n",
       "      <td>2014-01-02</td>\n",
       "      <td>3</td>\n",
       "    </tr>\n",
       "  </tbody>\n",
       "</table>\n",
       "</div>"
      ],
      "text/plain": [
       "                    datetime       temp  weather_code  year     time  \\\n",
       "0  2014-01-01 06:00:00+00:00  24.107000           2.0  2014  morning   \n",
       "1  2014-01-01 07:00:00+00:00  24.557001           1.0  2014  morning   \n",
       "2  2014-01-01 17:00:00+00:00  32.927000           2.0  2014  evening   \n",
       "3  2014-01-01 18:00:00+00:00  35.177002           2.0  2014  evening   \n",
       "4  2014-01-02 06:00:00+00:00  26.807000           2.0  2014  morning   \n",
       "\n",
       "         date  weekday  \n",
       "0  2014-01-01        2  \n",
       "1  2014-01-01        2  \n",
       "2  2014-01-01        2  \n",
       "3  2014-01-01        2  \n",
       "4  2014-01-02        3  "
      ]
     },
     "execution_count": 184,
     "metadata": {},
     "output_type": "execute_result"
    }
   ],
   "source": [
    "rideable_days['time'] = rideable_days.apply(lambda x: assign_time(x), axis = 1)\n",
    "rideable_days['date'] = rideable_days.apply(lambda x: assign_date(x).date(), axis = 1)\n",
    "rideable_days['weekday'] = rideable_days.apply(lambda x: assign_day(x), axis = 1)\n",
    "rideable_days.head()"
   ]
  },
  {
   "cell_type": "code",
   "execution_count": 190,
   "id": "6dfbacdf-a527-4ceb-aba7-993535a99646",
   "metadata": {},
   "outputs": [],
   "source": [
    "a = rideable_days.groupby(['date', 'weekday', 'time',]).agg({'temp': 'max'}).reset_index(drop = False)"
   ]
  },
  {
   "cell_type": "code",
   "execution_count": 197,
   "id": "45f83166-a2d7-4ba4-acf3-109c09346d74",
   "metadata": {},
   "outputs": [],
   "source": [
    "def find_rideable_days(df):\n",
    "    output_df = pd.DataFrame()\n",
    "    temp_filter = df.loc[(df['temp'] >= 32) & (df['weekday'] < 5)]\n",
    "    for date in temp_filter['date'].unique():\n",
    "        date_df = temp_filter.loc[temp_filter['date'] == date]\n",
    "        if len(date_df) == 2:\n",
    "            output_df = pd.concat([output_df, date_df], ignore_index = True) \n",
    "    return output_df"
   ]
  },
  {
   "cell_type": "code",
   "execution_count": 198,
   "id": "99171c57-c723-4292-a186-6d7c132b6f23",
   "metadata": {},
   "outputs": [
    {
     "data": {
      "text/html": [
       "<div>\n",
       "<style scoped>\n",
       "    .dataframe tbody tr th:only-of-type {\n",
       "        vertical-align: middle;\n",
       "    }\n",
       "\n",
       "    .dataframe tbody tr th {\n",
       "        vertical-align: top;\n",
       "    }\n",
       "\n",
       "    .dataframe thead th {\n",
       "        text-align: right;\n",
       "    }\n",
       "</style>\n",
       "<table border=\"1\" class=\"dataframe\">\n",
       "  <thead>\n",
       "    <tr style=\"text-align: right;\">\n",
       "      <th></th>\n",
       "      <th>date</th>\n",
       "      <th>weekday</th>\n",
       "      <th>time</th>\n",
       "      <th>temp</th>\n",
       "    </tr>\n",
       "  </thead>\n",
       "  <tbody>\n",
       "    <tr>\n",
       "      <th>0</th>\n",
       "      <td>2014-01-13</td>\n",
       "      <td>0</td>\n",
       "      <td>evening</td>\n",
       "      <td>51.737000</td>\n",
       "    </tr>\n",
       "    <tr>\n",
       "      <th>1</th>\n",
       "      <td>2014-01-13</td>\n",
       "      <td>0</td>\n",
       "      <td>morning</td>\n",
       "      <td>33.467000</td>\n",
       "    </tr>\n",
       "    <tr>\n",
       "      <th>2</th>\n",
       "      <td>2014-01-15</td>\n",
       "      <td>2</td>\n",
       "      <td>evening</td>\n",
       "      <td>33.737000</td>\n",
       "    </tr>\n",
       "    <tr>\n",
       "      <th>3</th>\n",
       "      <td>2014-01-15</td>\n",
       "      <td>2</td>\n",
       "      <td>morning</td>\n",
       "      <td>35.086998</td>\n",
       "    </tr>\n",
       "    <tr>\n",
       "      <th>4</th>\n",
       "      <td>2014-02-21</td>\n",
       "      <td>4</td>\n",
       "      <td>evening</td>\n",
       "      <td>40.847000</td>\n",
       "    </tr>\n",
       "    <tr>\n",
       "      <th>...</th>\n",
       "      <td>...</td>\n",
       "      <td>...</td>\n",
       "      <td>...</td>\n",
       "      <td>...</td>\n",
       "    </tr>\n",
       "    <tr>\n",
       "      <th>2911</th>\n",
       "      <td>2023-12-25</td>\n",
       "      <td>0</td>\n",
       "      <td>morning</td>\n",
       "      <td>44.987000</td>\n",
       "    </tr>\n",
       "    <tr>\n",
       "      <th>2912</th>\n",
       "      <td>2023-12-28</td>\n",
       "      <td>3</td>\n",
       "      <td>evening</td>\n",
       "      <td>49.847000</td>\n",
       "    </tr>\n",
       "    <tr>\n",
       "      <th>2913</th>\n",
       "      <td>2023-12-28</td>\n",
       "      <td>3</td>\n",
       "      <td>morning</td>\n",
       "      <td>44.447000</td>\n",
       "    </tr>\n",
       "    <tr>\n",
       "      <th>2914</th>\n",
       "      <td>2023-12-29</td>\n",
       "      <td>4</td>\n",
       "      <td>evening</td>\n",
       "      <td>40.847000</td>\n",
       "    </tr>\n",
       "    <tr>\n",
       "      <th>2915</th>\n",
       "      <td>2023-12-29</td>\n",
       "      <td>4</td>\n",
       "      <td>morning</td>\n",
       "      <td>40.037003</td>\n",
       "    </tr>\n",
       "  </tbody>\n",
       "</table>\n",
       "<p>2916 rows × 4 columns</p>\n",
       "</div>"
      ],
      "text/plain": [
       "            date  weekday     time       temp\n",
       "0     2014-01-13        0  evening  51.737000\n",
       "1     2014-01-13        0  morning  33.467000\n",
       "2     2014-01-15        2  evening  33.737000\n",
       "3     2014-01-15        2  morning  35.086998\n",
       "4     2014-02-21        4  evening  40.847000\n",
       "...          ...      ...      ...        ...\n",
       "2911  2023-12-25        0  morning  44.987000\n",
       "2912  2023-12-28        3  evening  49.847000\n",
       "2913  2023-12-28        3  morning  44.447000\n",
       "2914  2023-12-29        4  evening  40.847000\n",
       "2915  2023-12-29        4  morning  40.037003\n",
       "\n",
       "[2916 rows x 4 columns]"
      ]
     },
     "execution_count": 198,
     "metadata": {},
     "output_type": "execute_result"
    }
   ],
   "source": [
    "rideable = find_rideable_days(a)\n",
    "rideable"
   ]
  },
  {
   "cell_type": "code",
   "execution_count": 199,
   "id": "af54c5b1-e1f9-463b-86f4-fc7c2e502dda",
   "metadata": {
    "scrolled": true
   },
   "outputs": [
    {
     "data": {
      "text/plain": [
       "1458"
      ]
     },
     "execution_count": 199,
     "metadata": {},
     "output_type": "execute_result"
    }
   ],
   "source": [
    "count_df = rideable.groupby('date').agg({'temp': 'min'})\n",
    "len(count_df)"
   ]
  },
  {
   "cell_type": "code",
   "execution_count": 200,
   "id": "aff1e416-befb-4245-bc79-142d935eaf23",
   "metadata": {},
   "outputs": [
    {
     "data": {
      "text/html": [
       "<div>\n",
       "<style scoped>\n",
       "    .dataframe tbody tr th:only-of-type {\n",
       "        vertical-align: middle;\n",
       "    }\n",
       "\n",
       "    .dataframe tbody tr th {\n",
       "        vertical-align: top;\n",
       "    }\n",
       "\n",
       "    .dataframe thead th {\n",
       "        text-align: right;\n",
       "    }\n",
       "</style>\n",
       "<table border=\"1\" class=\"dataframe\">\n",
       "  <thead>\n",
       "    <tr style=\"text-align: right;\">\n",
       "      <th></th>\n",
       "      <th>Days</th>\n",
       "    </tr>\n",
       "    <tr>\n",
       "      <th>Year</th>\n",
       "      <th></th>\n",
       "    </tr>\n",
       "  </thead>\n",
       "  <tbody>\n",
       "    <tr>\n",
       "      <th>2014</th>\n",
       "      <td>132</td>\n",
       "    </tr>\n",
       "    <tr>\n",
       "      <th>2015</th>\n",
       "      <td>146</td>\n",
       "    </tr>\n",
       "    <tr>\n",
       "      <th>2016</th>\n",
       "      <td>156</td>\n",
       "    </tr>\n",
       "    <tr>\n",
       "      <th>2017</th>\n",
       "      <td>147</td>\n",
       "    </tr>\n",
       "    <tr>\n",
       "      <th>2018</th>\n",
       "      <td>109</td>\n",
       "    </tr>\n",
       "    <tr>\n",
       "      <th>2019</th>\n",
       "      <td>140</td>\n",
       "    </tr>\n",
       "    <tr>\n",
       "      <th>2020</th>\n",
       "      <td>155</td>\n",
       "    </tr>\n",
       "    <tr>\n",
       "      <th>2021</th>\n",
       "      <td>154</td>\n",
       "    </tr>\n",
       "    <tr>\n",
       "      <th>2022</th>\n",
       "      <td>146</td>\n",
       "    </tr>\n",
       "    <tr>\n",
       "      <th>2023</th>\n",
       "      <td>173</td>\n",
       "    </tr>\n",
       "  </tbody>\n",
       "</table>\n",
       "</div>"
      ],
      "text/plain": [
       "      Days\n",
       "Year      \n",
       "2014   132\n",
       "2015   146\n",
       "2016   156\n",
       "2017   147\n",
       "2018   109\n",
       "2019   140\n",
       "2020   155\n",
       "2021   154\n",
       "2022   146\n",
       "2023   173"
      ]
     },
     "execution_count": 200,
     "metadata": {},
     "output_type": "execute_result"
    }
   ],
   "source": [
    "year_df = count_df.reset_index(drop = False)\n",
    "year_df['year'] = year_df.apply(lambda x: x['date'].year, axis = 1)\n",
    "days_count_df = year_df.groupby('year').agg({'date': 'count'}).reset_index(drop = False).rename(columns={'date': 'Days', 'year': 'Year'}).set_index('Year')\n",
    "days_count_df"
   ]
  },
  {
   "cell_type": "code",
   "execution_count": 201,
   "id": "6d12e1ca-fd01-4086-8e24-0cd131373b8f",
   "metadata": {},
   "outputs": [
    {
     "data": {
      "text/html": [
       "<div>\n",
       "<style scoped>\n",
       "    .dataframe tbody tr th:only-of-type {\n",
       "        vertical-align: middle;\n",
       "    }\n",
       "\n",
       "    .dataframe tbody tr th {\n",
       "        vertical-align: top;\n",
       "    }\n",
       "\n",
       "    .dataframe thead th {\n",
       "        text-align: right;\n",
       "    }\n",
       "</style>\n",
       "<table border=\"1\" class=\"dataframe\">\n",
       "  <thead>\n",
       "    <tr style=\"text-align: right;\">\n",
       "      <th></th>\n",
       "      <th>Days Ridden</th>\n",
       "    </tr>\n",
       "    <tr>\n",
       "      <th>Year</th>\n",
       "      <th></th>\n",
       "    </tr>\n",
       "  </thead>\n",
       "  <tbody>\n",
       "    <tr>\n",
       "      <th>2019</th>\n",
       "      <td>29</td>\n",
       "    </tr>\n",
       "    <tr>\n",
       "      <th>2021</th>\n",
       "      <td>13</td>\n",
       "    </tr>\n",
       "    <tr>\n",
       "      <th>2022</th>\n",
       "      <td>14</td>\n",
       "    </tr>\n",
       "    <tr>\n",
       "      <th>2023</th>\n",
       "      <td>9</td>\n",
       "    </tr>\n",
       "    <tr>\n",
       "      <th>2024</th>\n",
       "      <td>2</td>\n",
       "    </tr>\n",
       "  </tbody>\n",
       "</table>\n",
       "</div>"
      ],
      "text/plain": [
       "      Days Ridden\n",
       "Year             \n",
       "2019           29\n",
       "2021           13\n",
       "2022           14\n",
       "2023            9\n",
       "2024            2"
      ]
     },
     "execution_count": 201,
     "metadata": {},
     "output_type": "execute_result"
    }
   ],
   "source": [
    "eric_df = pd.read_csv('yearly.csv', index_col = 0).set_index('Year')\n",
    "eric_df"
   ]
  },
  {
   "cell_type": "code",
   "execution_count": 202,
   "id": "c8821233-0af9-43cb-b731-927ccd8b2553",
   "metadata": {},
   "outputs": [
    {
     "data": {
      "text/html": [
       "<div>\n",
       "<style scoped>\n",
       "    .dataframe tbody tr th:only-of-type {\n",
       "        vertical-align: middle;\n",
       "    }\n",
       "\n",
       "    .dataframe tbody tr th {\n",
       "        vertical-align: top;\n",
       "    }\n",
       "\n",
       "    .dataframe thead th {\n",
       "        text-align: right;\n",
       "    }\n",
       "</style>\n",
       "<table border=\"1\" class=\"dataframe\">\n",
       "  <thead>\n",
       "    <tr style=\"text-align: right;\">\n",
       "      <th></th>\n",
       "      <th>Year</th>\n",
       "      <th>Days</th>\n",
       "      <th>Days Ridden</th>\n",
       "      <th>pct</th>\n",
       "    </tr>\n",
       "  </thead>\n",
       "  <tbody>\n",
       "    <tr>\n",
       "      <th>0</th>\n",
       "      <td>2014</td>\n",
       "      <td>132.0</td>\n",
       "      <td>0.0</td>\n",
       "      <td>0.000000</td>\n",
       "    </tr>\n",
       "    <tr>\n",
       "      <th>1</th>\n",
       "      <td>2015</td>\n",
       "      <td>146.0</td>\n",
       "      <td>0.0</td>\n",
       "      <td>0.000000</td>\n",
       "    </tr>\n",
       "    <tr>\n",
       "      <th>2</th>\n",
       "      <td>2016</td>\n",
       "      <td>156.0</td>\n",
       "      <td>0.0</td>\n",
       "      <td>0.000000</td>\n",
       "    </tr>\n",
       "    <tr>\n",
       "      <th>3</th>\n",
       "      <td>2017</td>\n",
       "      <td>147.0</td>\n",
       "      <td>0.0</td>\n",
       "      <td>0.000000</td>\n",
       "    </tr>\n",
       "    <tr>\n",
       "      <th>4</th>\n",
       "      <td>2018</td>\n",
       "      <td>109.0</td>\n",
       "      <td>0.0</td>\n",
       "      <td>0.000000</td>\n",
       "    </tr>\n",
       "    <tr>\n",
       "      <th>5</th>\n",
       "      <td>2019</td>\n",
       "      <td>140.0</td>\n",
       "      <td>29.0</td>\n",
       "      <td>20.714286</td>\n",
       "    </tr>\n",
       "    <tr>\n",
       "      <th>6</th>\n",
       "      <td>2020</td>\n",
       "      <td>155.0</td>\n",
       "      <td>0.0</td>\n",
       "      <td>0.000000</td>\n",
       "    </tr>\n",
       "    <tr>\n",
       "      <th>7</th>\n",
       "      <td>2021</td>\n",
       "      <td>154.0</td>\n",
       "      <td>13.0</td>\n",
       "      <td>8.441558</td>\n",
       "    </tr>\n",
       "    <tr>\n",
       "      <th>8</th>\n",
       "      <td>2022</td>\n",
       "      <td>146.0</td>\n",
       "      <td>14.0</td>\n",
       "      <td>9.589041</td>\n",
       "    </tr>\n",
       "    <tr>\n",
       "      <th>9</th>\n",
       "      <td>2023</td>\n",
       "      <td>173.0</td>\n",
       "      <td>9.0</td>\n",
       "      <td>5.202312</td>\n",
       "    </tr>\n",
       "  </tbody>\n",
       "</table>\n",
       "</div>"
      ],
      "text/plain": [
       "   Year   Days  Days Ridden        pct\n",
       "0  2014  132.0          0.0   0.000000\n",
       "1  2015  146.0          0.0   0.000000\n",
       "2  2016  156.0          0.0   0.000000\n",
       "3  2017  147.0          0.0   0.000000\n",
       "4  2018  109.0          0.0   0.000000\n",
       "5  2019  140.0         29.0  20.714286\n",
       "6  2020  155.0          0.0   0.000000\n",
       "7  2021  154.0         13.0   8.441558\n",
       "8  2022  146.0         14.0   9.589041\n",
       "9  2023  173.0          9.0   5.202312"
      ]
     },
     "execution_count": 202,
     "metadata": {},
     "output_type": "execute_result"
    }
   ],
   "source": [
    "disparity_df = days_count_df.join(eric_df, how = 'outer').fillna(0).reset_index(drop = False).drop(10, axis = 0)\n",
    "disparity_df['pct'] = disparity_df['Days Ridden'] / disparity_df['Days'] * 100\n",
    "disparity_df"
   ]
  },
  {
   "cell_type": "code",
   "execution_count": 204,
   "id": "6dcdc894-0175-483c-8b6f-90a7272e3039",
   "metadata": {},
   "outputs": [
    {
     "data": {
      "image/png": "[encoded data removed]",
      "text/plain": [
       "<Figure size 800x600 with 1 Axes>"
      ]
     },
     "metadata": {},
     "output_type": "display_data"
    }
   ],
   "source": [
    "fig, ax = plt.subplots(figsize = (8, 6))\n",
    "sns.barplot(data = disparity_df, x = 'Year', y = 'Days', palette = 'flare_r')\n",
    "sns.barplot(data = disparity_df, x = 'Year', y = 'Days Ridden', color = '#1f77b4', label = \"Eric's Bike Commutes\")\n",
    "plt.suptitle('Bikeable Weekdays Per Year Since 2014', fontsize = 20)\n",
    "plt.title('Defined as days above 32° without morning or evening precipitation', fontsize = 10)\n",
    "plt.ylabel('Number of Bikeable Days')\n",
    "plt.legend()\n",
    "plt.show()"
   ]
  },
  {
   "cell_type": "markdown",
   "id": "9ecbfa49-94fe-4418-9885-8526c2d1cb0b",
   "metadata": {},
   "source": [
    "It's pretty ugly up there. I prefer to write nice functions, chain methods, and minimize my placeholder DataFrames. But this had to happen when I pivoted directions today and I ultimately got the output I wanted."
   ]
  }
 ],
 "metadata": {
  "kernelspec": {
   "display_name": "Python 3 (ipykernel)",
   "language": "python",
   "name": "python3"
  },
  "language_info": {
   "codemirror_mode": {
    "name": "ipython",
    "version": 3
   },
   "file_extension": ".py",
   "mimetype": "text/x-python",
   "name": "python",
   "nbconvert_exporter": "python",
   "pygments_lexer": "ipython3",
   "version": "3.12.3"
  }
 },
 "nbformat": 4,
 "nbformat_minor": 5
}
