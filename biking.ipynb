{
 "cells": [
  {
   "cell_type": "markdown",
   "id": "ce8aa1dc-50cb-4c13-ad9f-99376a21fc58",
   "metadata": {},
   "source": [
    "# Brunner Data Science Task #\n",
    "## Premise ##\n",
    "Eric has been tracking his bike commutes to and from work. My task is to tell a story with the data:\n",
    "* What do I observe?\n",
    "* Describe trends and changes over time\n",
    "* What factors affect his time?\n",
    "* What are the implications of my findings?\n",
    "## Knowns ##\n",
    "* Eric bikes from the office at 11 Stanwix St. to the Point Breeze area\n",
    "* Eric's commute is downhill in the mornings and uphill in the evenings\n",
    "* Eric recently got a Kona gravel bike with wider tires and felt slower on his 2 most recent rides\n",
    "\n",
    "## Assumptions ##\n",
    "* Eric's morning commute takes place between 6 and 8 am\n",
    "* Eric's evening commute takes place between 5 and 7 pm"
   ]
  },
  {
   "cell_type": "markdown",
   "id": "ed431897-1807-4ce7-a8c3-ca67ee983c1d",
   "metadata": {},
   "source": [
    "## Wrangling and EDA ##"
   ]
  },
  {
   "cell_type": "code",
   "execution_count": 51,
   "id": "c6c379f0-541c-41cc-b134-edefc6e8a255",
   "metadata": {},
   "outputs": [],
   "source": [
    "import pandas as pd\n",
    "import scipy\n",
    "import datetime as dt\n",
    "from weather import get_pgh_weather\n",
    "import matplotlib.pyplot as plt\n",
    "import numpy as np\n",
    "import seaborn as sns\n",
    "import warnings\n",
    "from matplotlib.dates import MonthLocator, YearLocator, DateFormatter\n",
    "import pymc as pm\n",
    "#from sklearn.preprocessing import StandardScaler\n",
    "warnings.simplefilter(action='ignore', category=FutureWarning)"
   ]
  },
  {
   "cell_type": "code",
   "execution_count": 4,
   "id": "55379570-4611-4e00-b3b2-0c7db4e55eaa",
   "metadata": {},
   "outputs": [
    {
     "data": {
      "text/html": [
       "<div>\n",
       "<style scoped>\n",
       "    .dataframe tbody tr th:only-of-type {\n",
       "        vertical-align: middle;\n",
       "    }\n",
       "\n",
       "    .dataframe tbody tr th {\n",
       "        vertical-align: top;\n",
       "    }\n",
       "\n",
       "    .dataframe thead th {\n",
       "        text-align: right;\n",
       "    }\n",
       "</style>\n",
       "<table border=\"1\" class=\"dataframe\">\n",
       "  <thead>\n",
       "    <tr style=\"text-align: right;\">\n",
       "      <th></th>\n",
       "      <th>date</th>\n",
       "      <th>temperature_f</th>\n",
       "      <th>destination</th>\n",
       "      <th>time</th>\n",
       "      <th>route</th>\n",
       "      <th>distance_miles</th>\n",
       "    </tr>\n",
       "  </thead>\n",
       "  <tbody>\n",
       "    <tr>\n",
       "      <th>0</th>\n",
       "      <td>2019-03-20</td>\n",
       "      <td>26</td>\n",
       "      <td>Work</td>\n",
       "      <td>00:36:36</td>\n",
       "      <td>A</td>\n",
       "      <td>7.4</td>\n",
       "    </tr>\n",
       "    <tr>\n",
       "      <th>1</th>\n",
       "      <td>2019-03-20</td>\n",
       "      <td>56</td>\n",
       "      <td>Home</td>\n",
       "      <td>00:40:54</td>\n",
       "      <td>A</td>\n",
       "      <td>7.4</td>\n",
       "    </tr>\n",
       "    <tr>\n",
       "      <th>2</th>\n",
       "      <td>2019-03-28</td>\n",
       "      <td>39</td>\n",
       "      <td>Work</td>\n",
       "      <td>00:35:01</td>\n",
       "      <td>A</td>\n",
       "      <td>7.4</td>\n",
       "    </tr>\n",
       "    <tr>\n",
       "      <th>3</th>\n",
       "      <td>2019-03-28</td>\n",
       "      <td>61</td>\n",
       "      <td>Home</td>\n",
       "      <td>00:39:20</td>\n",
       "      <td>A</td>\n",
       "      <td>7.4</td>\n",
       "    </tr>\n",
       "    <tr>\n",
       "      <th>4</th>\n",
       "      <td>2019-04-03</td>\n",
       "      <td>35</td>\n",
       "      <td>Work</td>\n",
       "      <td>00:36:49</td>\n",
       "      <td>A</td>\n",
       "      <td>7.4</td>\n",
       "    </tr>\n",
       "  </tbody>\n",
       "</table>\n",
       "</div>"
      ],
      "text/plain": [
       "        date  temperature_f destination      time route  distance_miles\n",
       "0 2019-03-20             26        Work  00:36:36     A             7.4\n",
       "1 2019-03-20             56        Home  00:40:54     A             7.4\n",
       "2 2019-03-28             39        Work  00:35:01     A             7.4\n",
       "3 2019-03-28             61        Home  00:39:20     A             7.4\n",
       "4 2019-04-03             35        Work  00:36:49     A             7.4"
      ]
     },
     "execution_count": 4,
     "metadata": {},
     "output_type": "execute_result"
    }
   ],
   "source": [
    "# Reading in the data and merging on the route column\n",
    "times_df = pd.read_excel('data.xlsx', sheet_name = 'raw_data')\n",
    "key_df = pd.read_excel('data.xlsx', sheet_name = 'route_lookup')\n",
    "raw_df = times_df.merge(right = key_df, how = 'left', on = 'route')\n",
    "raw_df.head()"
   ]
  },
  {
   "cell_type": "code",
   "execution_count": 5,
   "id": "55f41afa-e5d4-472f-8d2d-c61ccc3d0a97",
   "metadata": {},
   "outputs": [
    {
     "data": {
      "text/html": [
       "<div>\n",
       "<style scoped>\n",
       "    .dataframe tbody tr th:only-of-type {\n",
       "        vertical-align: middle;\n",
       "    }\n",
       "\n",
       "    .dataframe tbody tr th {\n",
       "        vertical-align: top;\n",
       "    }\n",
       "\n",
       "    .dataframe thead th {\n",
       "        text-align: right;\n",
       "    }\n",
       "</style>\n",
       "<table border=\"1\" class=\"dataframe\">\n",
       "  <thead>\n",
       "    <tr style=\"text-align: right;\">\n",
       "      <th></th>\n",
       "      <th>date</th>\n",
       "      <th>temperature_f</th>\n",
       "      <th>distance_miles</th>\n",
       "    </tr>\n",
       "  </thead>\n",
       "  <tbody>\n",
       "    <tr>\n",
       "      <th>count</th>\n",
       "      <td>125</td>\n",
       "      <td>125.000000</td>\n",
       "      <td>125.000000</td>\n",
       "    </tr>\n",
       "    <tr>\n",
       "      <th>mean</th>\n",
       "      <td>2021-02-12 21:30:14.400000</td>\n",
       "      <td>65.088000</td>\n",
       "      <td>7.414400</td>\n",
       "    </tr>\n",
       "    <tr>\n",
       "      <th>min</th>\n",
       "      <td>2019-03-20 00:00:00</td>\n",
       "      <td>26.000000</td>\n",
       "      <td>7.300000</td>\n",
       "    </tr>\n",
       "    <tr>\n",
       "      <th>25%</th>\n",
       "      <td>2019-07-23 00:00:00</td>\n",
       "      <td>57.000000</td>\n",
       "      <td>7.400000</td>\n",
       "    </tr>\n",
       "    <tr>\n",
       "      <th>50%</th>\n",
       "      <td>2021-05-20 00:00:00</td>\n",
       "      <td>65.000000</td>\n",
       "      <td>7.400000</td>\n",
       "    </tr>\n",
       "    <tr>\n",
       "      <th>75%</th>\n",
       "      <td>2022-06-29 00:00:00</td>\n",
       "      <td>75.000000</td>\n",
       "      <td>7.400000</td>\n",
       "    </tr>\n",
       "    <tr>\n",
       "      <th>max</th>\n",
       "      <td>2024-03-01 00:00:00</td>\n",
       "      <td>90.000000</td>\n",
       "      <td>8.300000</td>\n",
       "    </tr>\n",
       "    <tr>\n",
       "      <th>std</th>\n",
       "      <td>NaN</td>\n",
       "      <td>14.008071</td>\n",
       "      <td>0.124242</td>\n",
       "    </tr>\n",
       "  </tbody>\n",
       "</table>\n",
       "</div>"
      ],
      "text/plain": [
       "                             date  temperature_f  distance_miles\n",
       "count                         125     125.000000      125.000000\n",
       "mean   2021-02-12 21:30:14.400000      65.088000        7.414400\n",
       "min           2019-03-20 00:00:00      26.000000        7.300000\n",
       "25%           2019-07-23 00:00:00      57.000000        7.400000\n",
       "50%           2021-05-20 00:00:00      65.000000        7.400000\n",
       "75%           2022-06-29 00:00:00      75.000000        7.400000\n",
       "max           2024-03-01 00:00:00      90.000000        8.300000\n",
       "std                           NaN      14.008071        0.124242"
      ]
     },
     "execution_count": 5,
     "metadata": {},
     "output_type": "execute_result"
    }
   ],
   "source": [
    "raw_df.describe()"
   ]
  },
  {
   "cell_type": "markdown",
   "id": "8f6c6ef6-cc4d-47ae-a6ca-eaa0c5f3e620",
   "metadata": {},
   "source": [
    "### Cleaning ###\n",
    "Thankfully there are no missing values or data quality issues. I want to simplify the column names, change some data types, and calculate average speed next."
   ]
  },
  {
   "cell_type": "code",
   "execution_count": 6,
   "id": "830e52e0-3980-4133-99d7-49c77fcbba41",
   "metadata": {},
   "outputs": [],
   "source": [
    "def clean_biking_data(input_df):\n",
    "    ''' (DataFrame) -> DataFrame\n",
    "    Returns a cleaned dataframe with simplified feature names, an average speed calculation,\n",
    "    and rectified data types.\n",
    "    '''\n",
    "    output_df = pd.DataFrame()\n",
    "    output_df['date'] = pd.to_datetime(input_df['date'], format = '%Y-%m-%d').dt.date\n",
    "    output_df['weekday'] = pd.to_datetime(output_df['date']).dt.weekday.map({\n",
    "    0: 'Monday',\n",
    "    1: 'Tuesday',\n",
    "    2: 'Wednesday',\n",
    "    3: 'Thursday',\n",
    "    4: 'Friday',\n",
    "    5: 'Saturday',\n",
    "    6: 'Sunday'\n",
    "})\n",
    "    output_df['temp_f'] = input_df['temperature_f']\n",
    "    output_df['destination'] = input_df['destination']\n",
    "    output_df['time'] = pd.to_timedelta(input_df['time'].astype(str))\n",
    "    output_df['route'] = input_df['route']\n",
    "    output_df['miles'] = input_df['distance_miles']\n",
    "    output_df['avg_mph'] = (output_df['miles']/(output_df['time'].dt.total_seconds()/3600)).round(2)\n",
    "    return output_df"
   ]
  },
  {
   "cell_type": "code",
   "execution_count": 7,
   "id": "08f0fb24-b378-4529-a69d-7b48c64eb964",
   "metadata": {},
   "outputs": [
    {
     "data": {
      "text/html": [
       "<div>\n",
       "<style scoped>\n",
       "    .dataframe tbody tr th:only-of-type {\n",
       "        vertical-align: middle;\n",
       "    }\n",
       "\n",
       "    .dataframe tbody tr th {\n",
       "        vertical-align: top;\n",
       "    }\n",
       "\n",
       "    .dataframe thead th {\n",
       "        text-align: right;\n",
       "    }\n",
       "</style>\n",
       "<table border=\"1\" class=\"dataframe\">\n",
       "  <thead>\n",
       "    <tr style=\"text-align: right;\">\n",
       "      <th></th>\n",
       "      <th>date</th>\n",
       "      <th>weekday</th>\n",
       "      <th>temp_f</th>\n",
       "      <th>destination</th>\n",
       "      <th>time</th>\n",
       "      <th>route</th>\n",
       "      <th>miles</th>\n",
       "      <th>avg_mph</th>\n",
       "    </tr>\n",
       "  </thead>\n",
       "  <tbody>\n",
       "    <tr>\n",
       "      <th>0</th>\n",
       "      <td>2019-03-20</td>\n",
       "      <td>Wednesday</td>\n",
       "      <td>26</td>\n",
       "      <td>Work</td>\n",
       "      <td>0 days 00:36:36</td>\n",
       "      <td>A</td>\n",
       "      <td>7.4</td>\n",
       "      <td>12.13</td>\n",
       "    </tr>\n",
       "    <tr>\n",
       "      <th>1</th>\n",
       "      <td>2019-03-20</td>\n",
       "      <td>Wednesday</td>\n",
       "      <td>56</td>\n",
       "      <td>Home</td>\n",
       "      <td>0 days 00:40:54</td>\n",
       "      <td>A</td>\n",
       "      <td>7.4</td>\n",
       "      <td>10.86</td>\n",
       "    </tr>\n",
       "    <tr>\n",
       "      <th>2</th>\n",
       "      <td>2019-03-28</td>\n",
       "      <td>Thursday</td>\n",
       "      <td>39</td>\n",
       "      <td>Work</td>\n",
       "      <td>0 days 00:35:01</td>\n",
       "      <td>A</td>\n",
       "      <td>7.4</td>\n",
       "      <td>12.68</td>\n",
       "    </tr>\n",
       "    <tr>\n",
       "      <th>3</th>\n",
       "      <td>2019-03-28</td>\n",
       "      <td>Thursday</td>\n",
       "      <td>61</td>\n",
       "      <td>Home</td>\n",
       "      <td>0 days 00:39:20</td>\n",
       "      <td>A</td>\n",
       "      <td>7.4</td>\n",
       "      <td>11.29</td>\n",
       "    </tr>\n",
       "    <tr>\n",
       "      <th>4</th>\n",
       "      <td>2019-04-03</td>\n",
       "      <td>Wednesday</td>\n",
       "      <td>35</td>\n",
       "      <td>Work</td>\n",
       "      <td>0 days 00:36:49</td>\n",
       "      <td>A</td>\n",
       "      <td>7.4</td>\n",
       "      <td>12.06</td>\n",
       "    </tr>\n",
       "  </tbody>\n",
       "</table>\n",
       "</div>"
      ],
      "text/plain": [
       "         date    weekday  temp_f destination            time route  miles  \\\n",
       "0  2019-03-20  Wednesday      26        Work 0 days 00:36:36     A    7.4   \n",
       "1  2019-03-20  Wednesday      56        Home 0 days 00:40:54     A    7.4   \n",
       "2  2019-03-28   Thursday      39        Work 0 days 00:35:01     A    7.4   \n",
       "3  2019-03-28   Thursday      61        Home 0 days 00:39:20     A    7.4   \n",
       "4  2019-04-03  Wednesday      35        Work 0 days 00:36:49     A    7.4   \n",
       "\n",
       "   avg_mph  \n",
       "0    12.13  \n",
       "1    10.86  \n",
       "2    12.68  \n",
       "3    11.29  \n",
       "4    12.06  "
      ]
     },
     "execution_count": 7,
     "metadata": {},
     "output_type": "execute_result"
    }
   ],
   "source": [
    "# Cleaned data\n",
    "df = clean_biking_data(raw_df)\n",
    "df.head()"
   ]
  },
  {
   "cell_type": "markdown",
   "id": "871967a0-b43d-42a3-bd1f-3b5ffe081f04",
   "metadata": {},
   "source": [
    "### Weather Consideration ###\n",
    "When I used to bike to work, weather was a huge perceived factor in my commute. If the weather was bad enough, I wouldn't bike at all. Otherwise, conditions like temperature and precipitation affected my riding pace and route. Eric provided temperature data but I can also check if there was any precipitation during his commutes, assuming the time estimate is roughly accurate."
   ]
  },
  {
   "cell_type": "code",
   "execution_count": 9,
   "id": "6efd611d-828a-4c85-a474-6c208e69e06f",
   "metadata": {},
   "outputs": [],
   "source": [
    "def add_weather(input_df):\n",
    "    ''' (DataFrame) -> DataFrame\n",
    "    Add the weather code to each commute segment.\n",
    "    Assumption is morning commute occurs between 6am and 8am. \n",
    "    Evening commute occurs between 5pm and 7pm.\n",
    "    Applies \"worst\" weather code that occurred during commute.\n",
    "    '''\n",
    "    output_df = pd.DataFrame()\n",
    "    for date in input_df['date'].unique():\n",
    "        weather_data = get_pgh_weather(date)\n",
    "        today_df = input_df.loc[input_df['date'] == date] \n",
    "        # Merge weather data with input_df based on 'date' and 'destination'\n",
    "        merged_df = pd.merge(today_df, weather_data, on=['date', 'destination'], how='left')\n",
    "        \n",
    "        # Append merged_df to output_df\n",
    "        output_df = pd.concat([output_df, merged_df], ignore_index=True)\n",
    "    \n",
    "    return output_df"
   ]
  },
  {
   "cell_type": "code",
   "execution_count": 10,
   "id": "7330854f-881f-4133-aac8-70bbfea830d3",
   "metadata": {},
   "outputs": [
    {
     "data": {
      "text/html": [
       "<div>\n",
       "<style scoped>\n",
       "    .dataframe tbody tr th:only-of-type {\n",
       "        vertical-align: middle;\n",
       "    }\n",
       "\n",
       "    .dataframe tbody tr th {\n",
       "        vertical-align: top;\n",
       "    }\n",
       "\n",
       "    .dataframe thead th {\n",
       "        text-align: right;\n",
       "    }\n",
       "</style>\n",
       "<table border=\"1\" class=\"dataframe\">\n",
       "  <thead>\n",
       "    <tr style=\"text-align: right;\">\n",
       "      <th></th>\n",
       "      <th>date</th>\n",
       "      <th>weekday</th>\n",
       "      <th>temp_f</th>\n",
       "      <th>destination</th>\n",
       "      <th>time</th>\n",
       "      <th>route</th>\n",
       "      <th>miles</th>\n",
       "      <th>avg_mph</th>\n",
       "      <th>weather_code</th>\n",
       "    </tr>\n",
       "  </thead>\n",
       "  <tbody>\n",
       "    <tr>\n",
       "      <th>0</th>\n",
       "      <td>2019-03-20</td>\n",
       "      <td>Wednesday</td>\n",
       "      <td>26</td>\n",
       "      <td>Work</td>\n",
       "      <td>0 days 00:36:36</td>\n",
       "      <td>A</td>\n",
       "      <td>7.4</td>\n",
       "      <td>12.13</td>\n",
       "      <td>1</td>\n",
       "    </tr>\n",
       "    <tr>\n",
       "      <th>1</th>\n",
       "      <td>2019-03-20</td>\n",
       "      <td>Wednesday</td>\n",
       "      <td>56</td>\n",
       "      <td>Home</td>\n",
       "      <td>0 days 00:40:54</td>\n",
       "      <td>A</td>\n",
       "      <td>7.4</td>\n",
       "      <td>10.86</td>\n",
       "      <td>2</td>\n",
       "    </tr>\n",
       "    <tr>\n",
       "      <th>2</th>\n",
       "      <td>2019-03-28</td>\n",
       "      <td>Thursday</td>\n",
       "      <td>39</td>\n",
       "      <td>Work</td>\n",
       "      <td>0 days 00:35:01</td>\n",
       "      <td>A</td>\n",
       "      <td>7.4</td>\n",
       "      <td>12.68</td>\n",
       "      <td>0</td>\n",
       "    </tr>\n",
       "    <tr>\n",
       "      <th>3</th>\n",
       "      <td>2019-03-28</td>\n",
       "      <td>Thursday</td>\n",
       "      <td>61</td>\n",
       "      <td>Home</td>\n",
       "      <td>0 days 00:39:20</td>\n",
       "      <td>A</td>\n",
       "      <td>7.4</td>\n",
       "      <td>11.29</td>\n",
       "      <td>3</td>\n",
       "    </tr>\n",
       "    <tr>\n",
       "      <th>4</th>\n",
       "      <td>2019-04-03</td>\n",
       "      <td>Wednesday</td>\n",
       "      <td>35</td>\n",
       "      <td>Work</td>\n",
       "      <td>0 days 00:36:49</td>\n",
       "      <td>A</td>\n",
       "      <td>7.4</td>\n",
       "      <td>12.06</td>\n",
       "      <td>0</td>\n",
       "    </tr>\n",
       "    <tr>\n",
       "      <th>...</th>\n",
       "      <td>...</td>\n",
       "      <td>...</td>\n",
       "      <td>...</td>\n",
       "      <td>...</td>\n",
       "      <td>...</td>\n",
       "      <td>...</td>\n",
       "      <td>...</td>\n",
       "      <td>...</td>\n",
       "      <td>...</td>\n",
       "    </tr>\n",
       "    <tr>\n",
       "      <th>120</th>\n",
       "      <td>2023-09-06</td>\n",
       "      <td>Wednesday</td>\n",
       "      <td>73</td>\n",
       "      <td>Work</td>\n",
       "      <td>0 days 00:31:29</td>\n",
       "      <td>A</td>\n",
       "      <td>7.4</td>\n",
       "      <td>14.10</td>\n",
       "      <td>0</td>\n",
       "    </tr>\n",
       "    <tr>\n",
       "      <th>121</th>\n",
       "      <td>2023-09-06</td>\n",
       "      <td>Wednesday</td>\n",
       "      <td>90</td>\n",
       "      <td>Home</td>\n",
       "      <td>0 days 00:40:36</td>\n",
       "      <td>F</td>\n",
       "      <td>7.4</td>\n",
       "      <td>10.94</td>\n",
       "      <td>0</td>\n",
       "    </tr>\n",
       "    <tr>\n",
       "      <th>122</th>\n",
       "      <td>2024-02-09</td>\n",
       "      <td>Friday</td>\n",
       "      <td>45</td>\n",
       "      <td>Work</td>\n",
       "      <td>0 days 00:34:55</td>\n",
       "      <td>A</td>\n",
       "      <td>7.4</td>\n",
       "      <td>12.72</td>\n",
       "      <td>2</td>\n",
       "    </tr>\n",
       "    <tr>\n",
       "      <th>123</th>\n",
       "      <td>2024-02-09</td>\n",
       "      <td>Friday</td>\n",
       "      <td>60</td>\n",
       "      <td>Home</td>\n",
       "      <td>0 days 00:40:35</td>\n",
       "      <td>A</td>\n",
       "      <td>7.4</td>\n",
       "      <td>10.94</td>\n",
       "      <td>1</td>\n",
       "    </tr>\n",
       "    <tr>\n",
       "      <th>124</th>\n",
       "      <td>2024-03-01</td>\n",
       "      <td>Friday</td>\n",
       "      <td>39</td>\n",
       "      <td>Work</td>\n",
       "      <td>0 days 00:33:29</td>\n",
       "      <td>A</td>\n",
       "      <td>7.4</td>\n",
       "      <td>13.26</td>\n",
       "      <td>0</td>\n",
       "    </tr>\n",
       "  </tbody>\n",
       "</table>\n",
       "<p>125 rows × 9 columns</p>\n",
       "</div>"
      ],
      "text/plain": [
       "           date    weekday  temp_f destination            time route  miles  \\\n",
       "0    2019-03-20  Wednesday      26        Work 0 days 00:36:36     A    7.4   \n",
       "1    2019-03-20  Wednesday      56        Home 0 days 00:40:54     A    7.4   \n",
       "2    2019-03-28   Thursday      39        Work 0 days 00:35:01     A    7.4   \n",
       "3    2019-03-28   Thursday      61        Home 0 days 00:39:20     A    7.4   \n",
       "4    2019-04-03  Wednesday      35        Work 0 days 00:36:49     A    7.4   \n",
       "..          ...        ...     ...         ...             ...   ...    ...   \n",
       "120  2023-09-06  Wednesday      73        Work 0 days 00:31:29     A    7.4   \n",
       "121  2023-09-06  Wednesday      90        Home 0 days 00:40:36     F    7.4   \n",
       "122  2024-02-09     Friday      45        Work 0 days 00:34:55     A    7.4   \n",
       "123  2024-02-09     Friday      60        Home 0 days 00:40:35     A    7.4   \n",
       "124  2024-03-01     Friday      39        Work 0 days 00:33:29     A    7.4   \n",
       "\n",
       "     avg_mph  weather_code  \n",
       "0      12.13             1  \n",
       "1      10.86             2  \n",
       "2      12.68             0  \n",
       "3      11.29             3  \n",
       "4      12.06             0  \n",
       "..       ...           ...  \n",
       "120    14.10             0  \n",
       "121    10.94             0  \n",
       "122    12.72             2  \n",
       "123    10.94             1  \n",
       "124    13.26             0  \n",
       "\n",
       "[125 rows x 9 columns]"
      ]
     },
     "execution_count": 10,
     "metadata": {},
     "output_type": "execute_result"
    }
   ],
   "source": [
    "full_df = add_weather(df)\n",
    "full_df"
   ]
  },
  {
   "cell_type": "markdown",
   "id": "f0637e57-530f-454d-841a-b1ee959546b7",
   "metadata": {},
   "source": [
    "#### Weather Descriptors ####\n",
    "Now I can look up all the unique WMO weather codes and assign descriptors. Clearly Eric doesn't opt to ride in all conditions. Without even looking, I'd assume that he takes the shortest route and pushes the pace on the days when the weather isn't great. Once collapse the unique codes down into a smaller group of categories, I can check the value counts and look for trends."
   ]
  },
  {
   "cell_type": "code",
   "execution_count": 11,
   "id": "bf684d6c-cfc2-4429-bbb6-b0a2f874d83d",
   "metadata": {},
   "outputs": [
    {
     "data": {
      "text/plain": [
       "array([ 1,  2,  0,  3, 53, 51, 63, 61])"
      ]
     },
     "execution_count": 11,
     "metadata": {},
     "output_type": "execute_result"
    }
   ],
   "source": [
    "full_df['weather_code'].unique()"
   ]
  },
  {
   "cell_type": "code",
   "execution_count": 12,
   "id": "baf0689f-6a99-4a86-a1dd-a1f473fff348",
   "metadata": {},
   "outputs": [],
   "source": [
    "weather_dict = {\n",
    "    0: 'Clear',\n",
    "    1: 'Clear',\n",
    "    2: 'Clear',\n",
    "    3: 'Clear',\n",
    "    51: 'Drizzle',\n",
    "    53: 'Drizzle',\n",
    "    61: 'Rain',\n",
    "    63: 'Rain'\n",
    "}"
   ]
  },
  {
   "cell_type": "code",
   "execution_count": 13,
   "id": "d4f085a5-e106-4c42-aa0e-c1abf56ab041",
   "metadata": {},
   "outputs": [
    {
     "data": {
      "text/html": [
       "<div>\n",
       "<style scoped>\n",
       "    .dataframe tbody tr th:only-of-type {\n",
       "        vertical-align: middle;\n",
       "    }\n",
       "\n",
       "    .dataframe tbody tr th {\n",
       "        vertical-align: top;\n",
       "    }\n",
       "\n",
       "    .dataframe thead th {\n",
       "        text-align: right;\n",
       "    }\n",
       "</style>\n",
       "<table border=\"1\" class=\"dataframe\">\n",
       "  <thead>\n",
       "    <tr style=\"text-align: right;\">\n",
       "      <th></th>\n",
       "      <th>date</th>\n",
       "      <th>weekday</th>\n",
       "      <th>temp_f</th>\n",
       "      <th>destination</th>\n",
       "      <th>time</th>\n",
       "      <th>route</th>\n",
       "      <th>miles</th>\n",
       "      <th>avg_mph</th>\n",
       "      <th>weather_code</th>\n",
       "      <th>weather</th>\n",
       "    </tr>\n",
       "  </thead>\n",
       "  <tbody>\n",
       "    <tr>\n",
       "      <th>0</th>\n",
       "      <td>2019-03-20</td>\n",
       "      <td>Wednesday</td>\n",
       "      <td>26</td>\n",
       "      <td>Work</td>\n",
       "      <td>0 days 00:36:36</td>\n",
       "      <td>A</td>\n",
       "      <td>7.4</td>\n",
       "      <td>12.13</td>\n",
       "      <td>1</td>\n",
       "      <td>Clear</td>\n",
       "    </tr>\n",
       "    <tr>\n",
       "      <th>1</th>\n",
       "      <td>2019-03-20</td>\n",
       "      <td>Wednesday</td>\n",
       "      <td>56</td>\n",
       "      <td>Home</td>\n",
       "      <td>0 days 00:40:54</td>\n",
       "      <td>A</td>\n",
       "      <td>7.4</td>\n",
       "      <td>10.86</td>\n",
       "      <td>2</td>\n",
       "      <td>Clear</td>\n",
       "    </tr>\n",
       "    <tr>\n",
       "      <th>2</th>\n",
       "      <td>2019-03-28</td>\n",
       "      <td>Thursday</td>\n",
       "      <td>39</td>\n",
       "      <td>Work</td>\n",
       "      <td>0 days 00:35:01</td>\n",
       "      <td>A</td>\n",
       "      <td>7.4</td>\n",
       "      <td>12.68</td>\n",
       "      <td>0</td>\n",
       "      <td>Clear</td>\n",
       "    </tr>\n",
       "    <tr>\n",
       "      <th>3</th>\n",
       "      <td>2019-03-28</td>\n",
       "      <td>Thursday</td>\n",
       "      <td>61</td>\n",
       "      <td>Home</td>\n",
       "      <td>0 days 00:39:20</td>\n",
       "      <td>A</td>\n",
       "      <td>7.4</td>\n",
       "      <td>11.29</td>\n",
       "      <td>3</td>\n",
       "      <td>Clear</td>\n",
       "    </tr>\n",
       "    <tr>\n",
       "      <th>4</th>\n",
       "      <td>2019-04-03</td>\n",
       "      <td>Wednesday</td>\n",
       "      <td>35</td>\n",
       "      <td>Work</td>\n",
       "      <td>0 days 00:36:49</td>\n",
       "      <td>A</td>\n",
       "      <td>7.4</td>\n",
       "      <td>12.06</td>\n",
       "      <td>0</td>\n",
       "      <td>Clear</td>\n",
       "    </tr>\n",
       "  </tbody>\n",
       "</table>\n",
       "</div>"
      ],
      "text/plain": [
       "         date    weekday  temp_f destination            time route  miles  \\\n",
       "0  2019-03-20  Wednesday      26        Work 0 days 00:36:36     A    7.4   \n",
       "1  2019-03-20  Wednesday      56        Home 0 days 00:40:54     A    7.4   \n",
       "2  2019-03-28   Thursday      39        Work 0 days 00:35:01     A    7.4   \n",
       "3  2019-03-28   Thursday      61        Home 0 days 00:39:20     A    7.4   \n",
       "4  2019-04-03  Wednesday      35        Work 0 days 00:36:49     A    7.4   \n",
       "\n",
       "   avg_mph  weather_code weather  \n",
       "0    12.13             1   Clear  \n",
       "1    10.86             2   Clear  \n",
       "2    12.68             0   Clear  \n",
       "3    11.29             3   Clear  \n",
       "4    12.06             0   Clear  "
      ]
     },
     "execution_count": 13,
     "metadata": {},
     "output_type": "execute_result"
    }
   ],
   "source": [
    "full_df['weather'] = full_df['weather_code'].map(weather_dict)\n",
    "full_df.head()"
   ]
  },
  {
   "cell_type": "code",
   "execution_count": 14,
   "id": "798ed858-a920-4c75-b925-a45cb991f439",
   "metadata": {},
   "outputs": [],
   "source": [
    "full_df.to_csv('full_df.csv')"
   ]
  },
  {
   "cell_type": "markdown",
   "id": "5a9825e0-4e90-4182-83e0-a8021ce5156c",
   "metadata": {},
   "source": [
    "### Wrangling Done ###\n",
    "I shouldn't have to import data from the weather API anymore. Now I'll pull the data back in from full_df.csv so I can seamlessly start from here any time I restart the notebook's kernel."
   ]
  },
  {
   "cell_type": "code",
   "execution_count": 3,
   "id": "53a1047b-1add-4d92-a71a-1986d7837212",
   "metadata": {},
   "outputs": [],
   "source": [
    "full_df = pd.read_csv('full_df.csv', index_col = 0)"
   ]
  },
  {
   "cell_type": "code",
   "execution_count": 4,
   "id": "3fdd4356-f682-4386-95cf-00e8d500e730",
   "metadata": {},
   "outputs": [
    {
     "data": {
      "text/html": [
       "<div>\n",
       "<style scoped>\n",
       "    .dataframe tbody tr th:only-of-type {\n",
       "        vertical-align: middle;\n",
       "    }\n",
       "\n",
       "    .dataframe tbody tr th {\n",
       "        vertical-align: top;\n",
       "    }\n",
       "\n",
       "    .dataframe thead th {\n",
       "        text-align: right;\n",
       "    }\n",
       "</style>\n",
       "<table border=\"1\" class=\"dataframe\">\n",
       "  <thead>\n",
       "    <tr style=\"text-align: right;\">\n",
       "      <th></th>\n",
       "      <th>date</th>\n",
       "      <th>weekday</th>\n",
       "      <th>temp_f</th>\n",
       "      <th>destination</th>\n",
       "      <th>time</th>\n",
       "      <th>route</th>\n",
       "      <th>miles</th>\n",
       "      <th>avg_mph</th>\n",
       "      <th>weather_code</th>\n",
       "      <th>weather</th>\n",
       "    </tr>\n",
       "  </thead>\n",
       "  <tbody>\n",
       "    <tr>\n",
       "      <th>0</th>\n",
       "      <td>2019-03-20</td>\n",
       "      <td>Wednesday</td>\n",
       "      <td>26</td>\n",
       "      <td>Work</td>\n",
       "      <td>0 days 00:36:36</td>\n",
       "      <td>A</td>\n",
       "      <td>7.4</td>\n",
       "      <td>12.13</td>\n",
       "      <td>1</td>\n",
       "      <td>Clear</td>\n",
       "    </tr>\n",
       "    <tr>\n",
       "      <th>1</th>\n",
       "      <td>2019-03-20</td>\n",
       "      <td>Wednesday</td>\n",
       "      <td>56</td>\n",
       "      <td>Home</td>\n",
       "      <td>0 days 00:40:54</td>\n",
       "      <td>A</td>\n",
       "      <td>7.4</td>\n",
       "      <td>10.86</td>\n",
       "      <td>2</td>\n",
       "      <td>Clear</td>\n",
       "    </tr>\n",
       "    <tr>\n",
       "      <th>2</th>\n",
       "      <td>2019-03-28</td>\n",
       "      <td>Thursday</td>\n",
       "      <td>39</td>\n",
       "      <td>Work</td>\n",
       "      <td>0 days 00:35:01</td>\n",
       "      <td>A</td>\n",
       "      <td>7.4</td>\n",
       "      <td>12.68</td>\n",
       "      <td>0</td>\n",
       "      <td>Clear</td>\n",
       "    </tr>\n",
       "    <tr>\n",
       "      <th>3</th>\n",
       "      <td>2019-03-28</td>\n",
       "      <td>Thursday</td>\n",
       "      <td>61</td>\n",
       "      <td>Home</td>\n",
       "      <td>0 days 00:39:20</td>\n",
       "      <td>A</td>\n",
       "      <td>7.4</td>\n",
       "      <td>11.29</td>\n",
       "      <td>3</td>\n",
       "      <td>Clear</td>\n",
       "    </tr>\n",
       "    <tr>\n",
       "      <th>4</th>\n",
       "      <td>2019-04-03</td>\n",
       "      <td>Wednesday</td>\n",
       "      <td>35</td>\n",
       "      <td>Work</td>\n",
       "      <td>0 days 00:36:49</td>\n",
       "      <td>A</td>\n",
       "      <td>7.4</td>\n",
       "      <td>12.06</td>\n",
       "      <td>0</td>\n",
       "      <td>Clear</td>\n",
       "    </tr>\n",
       "    <tr>\n",
       "      <th>...</th>\n",
       "      <td>...</td>\n",
       "      <td>...</td>\n",
       "      <td>...</td>\n",
       "      <td>...</td>\n",
       "      <td>...</td>\n",
       "      <td>...</td>\n",
       "      <td>...</td>\n",
       "      <td>...</td>\n",
       "      <td>...</td>\n",
       "      <td>...</td>\n",
       "    </tr>\n",
       "    <tr>\n",
       "      <th>120</th>\n",
       "      <td>2023-09-06</td>\n",
       "      <td>Wednesday</td>\n",
       "      <td>73</td>\n",
       "      <td>Work</td>\n",
       "      <td>0 days 00:31:29</td>\n",
       "      <td>A</td>\n",
       "      <td>7.4</td>\n",
       "      <td>14.10</td>\n",
       "      <td>0</td>\n",
       "      <td>Clear</td>\n",
       "    </tr>\n",
       "    <tr>\n",
       "      <th>121</th>\n",
       "      <td>2023-09-06</td>\n",
       "      <td>Wednesday</td>\n",
       "      <td>90</td>\n",
       "      <td>Home</td>\n",
       "      <td>0 days 00:40:36</td>\n",
       "      <td>F</td>\n",
       "      <td>7.4</td>\n",
       "      <td>10.94</td>\n",
       "      <td>0</td>\n",
       "      <td>Clear</td>\n",
       "    </tr>\n",
       "    <tr>\n",
       "      <th>122</th>\n",
       "      <td>2024-02-09</td>\n",
       "      <td>Friday</td>\n",
       "      <td>45</td>\n",
       "      <td>Work</td>\n",
       "      <td>0 days 00:34:55</td>\n",
       "      <td>A</td>\n",
       "      <td>7.4</td>\n",
       "      <td>12.72</td>\n",
       "      <td>2</td>\n",
       "      <td>Clear</td>\n",
       "    </tr>\n",
       "    <tr>\n",
       "      <th>123</th>\n",
       "      <td>2024-02-09</td>\n",
       "      <td>Friday</td>\n",
       "      <td>60</td>\n",
       "      <td>Home</td>\n",
       "      <td>0 days 00:40:35</td>\n",
       "      <td>A</td>\n",
       "      <td>7.4</td>\n",
       "      <td>10.94</td>\n",
       "      <td>1</td>\n",
       "      <td>Clear</td>\n",
       "    </tr>\n",
       "    <tr>\n",
       "      <th>124</th>\n",
       "      <td>2024-03-01</td>\n",
       "      <td>Friday</td>\n",
       "      <td>39</td>\n",
       "      <td>Work</td>\n",
       "      <td>0 days 00:33:29</td>\n",
       "      <td>A</td>\n",
       "      <td>7.4</td>\n",
       "      <td>13.26</td>\n",
       "      <td>0</td>\n",
       "      <td>Clear</td>\n",
       "    </tr>\n",
       "  </tbody>\n",
       "</table>\n",
       "<p>125 rows × 10 columns</p>\n",
       "</div>"
      ],
      "text/plain": [
       "          date    weekday  temp_f destination             time route  miles  \\\n",
       "0   2019-03-20  Wednesday      26        Work  0 days 00:36:36     A    7.4   \n",
       "1   2019-03-20  Wednesday      56        Home  0 days 00:40:54     A    7.4   \n",
       "2   2019-03-28   Thursday      39        Work  0 days 00:35:01     A    7.4   \n",
       "3   2019-03-28   Thursday      61        Home  0 days 00:39:20     A    7.4   \n",
       "4   2019-04-03  Wednesday      35        Work  0 days 00:36:49     A    7.4   \n",
       "..         ...        ...     ...         ...              ...   ...    ...   \n",
       "120 2023-09-06  Wednesday      73        Work  0 days 00:31:29     A    7.4   \n",
       "121 2023-09-06  Wednesday      90        Home  0 days 00:40:36     F    7.4   \n",
       "122 2024-02-09     Friday      45        Work  0 days 00:34:55     A    7.4   \n",
       "123 2024-02-09     Friday      60        Home  0 days 00:40:35     A    7.4   \n",
       "124 2024-03-01     Friday      39        Work  0 days 00:33:29     A    7.4   \n",
       "\n",
       "     avg_mph  weather_code weather  \n",
       "0      12.13             1   Clear  \n",
       "1      10.86             2   Clear  \n",
       "2      12.68             0   Clear  \n",
       "3      11.29             3   Clear  \n",
       "4      12.06             0   Clear  \n",
       "..       ...           ...     ...  \n",
       "120    14.10             0   Clear  \n",
       "121    10.94             0   Clear  \n",
       "122    12.72             2   Clear  \n",
       "123    10.94             1   Clear  \n",
       "124    13.26             0   Clear  \n",
       "\n",
       "[125 rows x 10 columns]"
      ]
     },
     "execution_count": 4,
     "metadata": {},
     "output_type": "execute_result"
    }
   ],
   "source": [
    "full_df['date'] = pd.to_datetime(full_df['date'], format = '%Y-%m-%d')\n",
    "full_df"
   ]
  },
  {
   "cell_type": "markdown",
   "id": "74e51d81-c399-4393-a8e3-56272d239151",
   "metadata": {},
   "source": [
    "## Questions ##\n",
    "Before I explore and visualize the data too much, I like to start with some questions. I use the questions to guide my transformations and visualizations. Then I can use the visualizations to either answer the questions or guide me to dig deeper. \n",
    "* Does Eric prefer certain routes in the morning vs evening? I'd guess that he takes the steeper downhill routes in the mornings and the more gradual, even if longer, uphill routes in the evening.\n",
    "* Does Eric bike more on specific days? Maybe this will even tell me which days Eric comes into the office.\n",
    "* Does morning temperature correlate with speed?\n",
    "    * When I biked to work, I also biked downhill in the morning and uphill in the evening. Many cold mornings I actually went slower since I wasn't generating any body heat on the hills. Faster speeds would make me feel colder so I'd slow down. It was the converse in the evenings. I'd ride home faster if it was cooler. The hottest days were slowest.\n",
    "* Does Eric prefer certain routes at certain times of day, on certain days of the week, in certain conditions, or certain times of year?\n",
    "    * e.g. Maybe Eric likes riding longer commutes home on Fridays or hotter days.\n",
    "* Does Eric ever ride in the rain? If so, how does that impact his time? I often rode faster in the rain or when there was rain in the forecast.\n",
    "* Does Eric's average pace for a given route increase over time? Especially over the course of a riding season"
   ]
  },
  {
   "cell_type": "markdown",
   "id": "67db62a4-d6f5-4ace-b3d5-232d26f89f71",
   "metadata": {},
   "source": [
    "## Considerations ##\n",
    "When dealing with numerical and categorical data, it's important to be aware of Simpson's paradox. This is the phenomenon whereby an overall trend appears but is contradicted by the category-level trends. I'll check out Eric's stats at both levels since Simpson's paradox is fun to observe in real data."
   ]
  },
  {
   "cell_type": "markdown",
   "id": "1d1709f6-67ac-4aa2-b5ac-3c393cae4a54",
   "metadata": {},
   "source": [
    "## Visualizations ##\n",
    "Now I want to check out shapes and trends of the features, as well as some potential correlations."
   ]
  },
  {
   "cell_type": "code",
   "execution_count": 5,
   "id": "e0d8c580-94bc-404d-a53a-07aefe9bfc28",
   "metadata": {},
   "outputs": [
    {
     "data": {
      "text/plain": [
       "weather\n",
       "Clear      109\n",
       "Drizzle     14\n",
       "Rain         2\n",
       "Name: count, dtype: int64"
      ]
     },
     "execution_count": 5,
     "metadata": {},
     "output_type": "execute_result"
    }
   ],
   "source": [
    "full_df['weather'].value_counts()"
   ]
  },
  {
   "cell_type": "markdown",
   "id": "87e6845b-bffb-4ec8-bc7c-c84d32e486a3",
   "metadata": {},
   "source": [
    "Eric clearly avoids rain as much as possible. Only twice did he ride in conditions that *may* have been worse than a drizzle. Again, the WMO code for rain appeared at some point in the 2-hour estimated weather window for his commute. Knowing Pittsburgh's weather, it's entirely possible he avoided the rain."
   ]
  },
  {
   "cell_type": "code",
   "execution_count": 6,
   "id": "cced5755-6c68-49ec-86b8-75de031c6dea",
   "metadata": {},
   "outputs": [
    {
     "data": {
      "image/png": "[encoded data removed]",
      "text/plain": [
       "<Figure size 640x480 with 1 Axes>"
      ]
     },
     "metadata": {},
     "output_type": "display_data"
    }
   ],
   "source": [
    "sns.histplot(data = full_df, x = 'temp_f', binwidth = 5)\n",
    "plt.show()"
   ]
  },
  {
   "cell_type": "code",
   "execution_count": 7,
   "id": "047c6454-f561-4f69-99bb-c87fba51a65f",
   "metadata": {},
   "outputs": [
    {
     "data": {
      "image/png": "[encoded data removed]",
      "text/plain": [
       "<Figure size 640x480 with 1 Axes>"
      ]
     },
     "metadata": {},
     "output_type": "display_data"
    }
   ],
   "source": [
    "fig, ax = plt.subplots()\n",
    "\n",
    "ax.xaxis.set_major_locator(YearLocator())\n",
    "ax.xaxis.set_major_formatter(DateFormatter('%Y'))\n",
    "\n",
    "sns.scatterplot(data = full_df, x = 'date', y = 'avg_mph', hue = 'destination', ax = ax)\n",
    "plt.title(\"Scatterplot Showing Eric's Average Speed for Each Commute Direction Over Time\")\n",
    "plt.ylabel('Average Speed (mph)')\n",
    "plt.xlabel('Date')\n",
    "ax.legend(loc = 'center left', bbox_to_anchor=(1, 0.5)) \n",
    "plt.show()"
   ]
  },
  {
   "cell_type": "markdown",
   "id": "25e4dd8d-1ae0-4040-8822-90ba840b2a60",
   "metadata": {},
   "source": [
    "Suddenly, we have a clear picture emerging. First, I can see that Eric was really taking biking seriously in 2019. He showed a general trend of picking up speed throughout the year on his commutes. I'll dive further into this shape later. We can also clearly see that Eric worked from home during all of 2020 due to COVID."
   ]
  },
  {
   "cell_type": "code",
   "execution_count": 8,
   "id": "1146beee-4c35-41a5-98a1-df6d23fde06e",
   "metadata": {},
   "outputs": [
    {
     "data": {
      "image/png": "[encoded data removed]",
      "text/plain": [
       "<Figure size 590.875x500 with 1 Axes>"
      ]
     },
     "metadata": {},
     "output_type": "display_data"
    }
   ],
   "source": [
    "sns.catplot(data = full_df, x = 'route', y = 'avg_mph', hue = 'destination')\n",
    "plt.title('Which Routes Does Eric Prefer For Each Commute Direction?')\n",
    "plt.xlabel('Route')\n",
    "plt.ylabel('Average Speed (mph)')\n",
    "plt.show()"
   ]
  },
  {
   "cell_type": "code",
   "execution_count": 9,
   "id": "317dd9f6-7895-4a6e-931b-96467611f056",
   "metadata": {},
   "outputs": [
    {
     "name": "stdout",
     "output_type": "stream",
     "text": [
      "Eric averages 13.80 mph on route D.\n",
      "The 0.1 mile savings over route A accounts for a 26-second savings on his morning commute.\n"
     ]
    }
   ],
   "source": [
    "D_avg = full_df.loc[full_df['route'] == 'D']['avg_mph'].mean()\n",
    "time_saved = (0.1 * 3600 / D_avg)\n",
    "print(f'Eric averages {D_avg:0.2f} mph on route D.\\nThe 0.1 mile savings over\\\n",
    " route A accounts for a {time_saved:0.0f}-second savings on his morning commute.')"
   ]
  },
  {
   "cell_type": "markdown",
   "id": "c04d276d-d86e-4598-a43d-a25422c377a0",
   "metadata": {},
   "source": [
    "Clearly Eric prefers route A. D appears to allow Eric a faster average speed, but I'll test that hypothesis later to see if we can definitively say D is a faster route. Eric has posted 2 speeds on route D that exceed his historical highs on route A. Time, however, is the confounding factor. Eric posted those speeds during the upward trend in 2019 when he was increasing his fitness level. He has yet to approach those speeds since taking 2020 off."
   ]
  },
  {
   "cell_type": "code",
   "execution_count": 10,
   "id": "ce2d091d-fb25-4e80-8220-207af9562087",
   "metadata": {
    "scrolled": true
   },
   "outputs": [
    {
     "data": {
      "text/html": [
       "<div>\n",
       "<style scoped>\n",
       "    .dataframe tbody tr th:only-of-type {\n",
       "        vertical-align: middle;\n",
       "    }\n",
       "\n",
       "    .dataframe tbody tr th {\n",
       "        vertical-align: top;\n",
       "    }\n",
       "\n",
       "    .dataframe thead th {\n",
       "        text-align: right;\n",
       "    }\n",
       "</style>\n",
       "<table border=\"1\" class=\"dataframe\">\n",
       "  <thead>\n",
       "    <tr style=\"text-align: right;\">\n",
       "      <th>weekday</th>\n",
       "      <th>Friday</th>\n",
       "      <th>Monday</th>\n",
       "      <th>Sunday</th>\n",
       "      <th>Thursday</th>\n",
       "      <th>Tuesday</th>\n",
       "      <th>Wednesday</th>\n",
       "    </tr>\n",
       "    <tr>\n",
       "      <th>route</th>\n",
       "      <th></th>\n",
       "      <th></th>\n",
       "      <th></th>\n",
       "      <th></th>\n",
       "      <th></th>\n",
       "      <th></th>\n",
       "    </tr>\n",
       "  </thead>\n",
       "  <tbody>\n",
       "    <tr>\n",
       "      <th>A</th>\n",
       "      <td>35</td>\n",
       "      <td>10</td>\n",
       "      <td>3</td>\n",
       "      <td>18</td>\n",
       "      <td>20</td>\n",
       "      <td>27</td>\n",
       "    </tr>\n",
       "    <tr>\n",
       "      <th>B</th>\n",
       "      <td>1</td>\n",
       "      <td>0</td>\n",
       "      <td>0</td>\n",
       "      <td>0</td>\n",
       "      <td>1</td>\n",
       "      <td>0</td>\n",
       "    </tr>\n",
       "    <tr>\n",
       "      <th>C</th>\n",
       "      <td>0</td>\n",
       "      <td>0</td>\n",
       "      <td>0</td>\n",
       "      <td>1</td>\n",
       "      <td>0</td>\n",
       "      <td>0</td>\n",
       "    </tr>\n",
       "    <tr>\n",
       "      <th>D</th>\n",
       "      <td>1</td>\n",
       "      <td>0</td>\n",
       "      <td>1</td>\n",
       "      <td>1</td>\n",
       "      <td>2</td>\n",
       "      <td>2</td>\n",
       "    </tr>\n",
       "    <tr>\n",
       "      <th>E</th>\n",
       "      <td>0</td>\n",
       "      <td>0</td>\n",
       "      <td>0</td>\n",
       "      <td>1</td>\n",
       "      <td>0</td>\n",
       "      <td>0</td>\n",
       "    </tr>\n",
       "    <tr>\n",
       "      <th>F</th>\n",
       "      <td>0</td>\n",
       "      <td>0</td>\n",
       "      <td>0</td>\n",
       "      <td>0</td>\n",
       "      <td>0</td>\n",
       "      <td>1</td>\n",
       "    </tr>\n",
       "  </tbody>\n",
       "</table>\n",
       "</div>"
      ],
      "text/plain": [
       "weekday  Friday  Monday  Sunday  Thursday  Tuesday  Wednesday\n",
       "route                                                        \n",
       "A            35      10       3        18       20         27\n",
       "B             1       0       0         0        1          0\n",
       "C             0       0       0         1        0          0\n",
       "D             1       0       1         1        2          2\n",
       "E             0       0       0         1        0          0\n",
       "F             0       0       0         0        0          1"
      ]
     },
     "execution_count": 10,
     "metadata": {},
     "output_type": "execute_result"
    }
   ],
   "source": [
    "pd.crosstab(full_df['route'], full_df['weekday'])"
   ]
  },
  {
   "cell_type": "markdown",
   "id": "a6d33615-f264-43d8-bf5e-ab360ed0323d",
   "metadata": {},
   "source": [
    "Does Eric seem to have some sort of weekday/bike route bias? No, he just seems to generally prefer route A and doesn't like to bike on Mondays. Maybe he often works from home on Mondays."
   ]
  },
  {
   "cell_type": "code",
   "execution_count": 11,
   "id": "a05efc3c-c7ce-4281-9896-62f3a1c69094",
   "metadata": {},
   "outputs": [],
   "source": [
    "morning_2019_df = (full_df.loc[\n",
    "                   (full_df['date'].dt.year == 2019) & \n",
    "                   (full_df['destination'] == 'Work')]\n",
    "                  )"
   ]
  },
  {
   "cell_type": "code",
   "execution_count": 40,
   "id": "4d962a73-2266-4342-a119-0c8e0b6c24b9",
   "metadata": {},
   "outputs": [
    {
     "data": {
      "image/png": "[encoded data removed]",
      "text/plain": [
       "<Figure size 1500x700 with 3 Axes>"
      ]
     },
     "metadata": {},
     "output_type": "display_data"
    }
   ],
   "source": [
    "fig, ax = plt.subplots(1, 3, figsize = (15, 7))\n",
    "\n",
    "ax[0].xaxis.set_major_locator(MonthLocator())\n",
    "ax[0].xaxis.set_major_formatter(DateFormatter(\"%b\"))\n",
    "ax[1].xaxis.set_major_locator(MonthLocator())\n",
    "ax[1].xaxis.set_major_formatter(DateFormatter(\"%b\"))\n",
    "\n",
    "sns.regplot(\n",
    "    x = morning_2019_df['date'].dt.dayofyear,\n",
    "    y='temp_f',\n",
    "    data = morning_2019_df,\n",
    "    fit_reg=True,\n",
    "    ci=95,  # Confidence interval at 95%\n",
    "    order = 2,\n",
    "    ax=ax[0]\n",
    ")\n",
    "\n",
    "ax[0].set_xlabel('Date')\n",
    "ax[1].set_xlabel('Date')\n",
    "ax[1].set_xlabel('Temperature (Fahrenheit)')\n",
    "\n",
    "\n",
    "l = sns.regplot(\n",
    "    x = morning_2019_df['date'].dt.dayofyear,\n",
    "    y = 'avg_mph',\n",
    "    data = morning_2019_df,\n",
    "    ax = ax[1],\n",
    "    color = 'orange',\n",
    "    order = 1\n",
    ")\n",
    "\n",
    "sns.regplot(\n",
    "    y = 'avg_mph',\n",
    "    x = 'temp_f',\n",
    "    data = morning_2019_df,\n",
    "    ax = ax[2],\n",
    "    order = 2\n",
    ")\n",
    "    \n",
    "\n",
    "\n",
    "\n",
    "plt.suptitle(\"Eric's 2019 Morning Commutes: Temperature and Average Speed\")\n",
    "\n",
    "ax[0].set_ylabel('Temperature (Fahrenheit)')\n",
    "ax[1].set_ylabel('Average Speed (mph)')\n",
    "ax[2].set_ylabel('Average Speed (mph)')\n",
    "\n",
    "ax[1].text(0.1, 0.9, f'y = {slope:0.5f}x + {intercept:0.2f}', horizontalalignment='left', verticalalignment='center', transform=ax[1].transAxes)\n",
    "\n",
    "\n",
    "slope, intercept, r, p, sterr = scipy.stats.linregress(x = l.get_lines()[0].get_xdata(), y = l.get_lines()[0].get_ydata())\n",
    "\n",
    "\n",
    "plt.show()"
   ]
  },
  {
   "cell_type": "markdown",
   "id": "f198ff66-5f9e-478a-ac74-e08932e8453d",
   "metadata": {},
   "source": [
    "It appears that date is a better predictor of temperature and speed than temperature is a predictor of speed. I also grabbed the slope and intercept of the speed vs date regression line to help inform my prior distribution for modeling later."
   ]
  },
  {
   "cell_type": "code",
   "execution_count": 13,
   "id": "6dd678dc-852c-4132-8ffc-01a66ddd97e5",
   "metadata": {},
   "outputs": [
    {
     "data": {
      "text/html": [
       "<div>\n",
       "<style scoped>\n",
       "    .dataframe tbody tr th:only-of-type {\n",
       "        vertical-align: middle;\n",
       "    }\n",
       "\n",
       "    .dataframe tbody tr th {\n",
       "        vertical-align: top;\n",
       "    }\n",
       "\n",
       "    .dataframe thead th {\n",
       "        text-align: right;\n",
       "    }\n",
       "</style>\n",
       "<table border=\"1\" class=\"dataframe\">\n",
       "  <thead>\n",
       "    <tr style=\"text-align: right;\">\n",
       "      <th></th>\n",
       "      <th>date</th>\n",
       "      <th>avg_mph</th>\n",
       "      <th>temp_f</th>\n",
       "    </tr>\n",
       "  </thead>\n",
       "  <tbody>\n",
       "    <tr>\n",
       "      <th>0</th>\n",
       "      <td>2019-09-05</td>\n",
       "      <td>14.58</td>\n",
       "      <td>59</td>\n",
       "    </tr>\n",
       "    <tr>\n",
       "      <th>1</th>\n",
       "      <td>2019-09-08</td>\n",
       "      <td>13.39</td>\n",
       "      <td>70</td>\n",
       "    </tr>\n",
       "    <tr>\n",
       "      <th>2</th>\n",
       "      <td>2019-09-10</td>\n",
       "      <td>14.39</td>\n",
       "      <td>57</td>\n",
       "    </tr>\n",
       "    <tr>\n",
       "      <th>3</th>\n",
       "      <td>2019-09-18</td>\n",
       "      <td>13.74</td>\n",
       "      <td>54</td>\n",
       "    </tr>\n",
       "    <tr>\n",
       "      <th>4</th>\n",
       "      <td>2019-10-15</td>\n",
       "      <td>13.48</td>\n",
       "      <td>38</td>\n",
       "    </tr>\n",
       "    <tr>\n",
       "      <th>5</th>\n",
       "      <td>2019-10-23</td>\n",
       "      <td>13.37</td>\n",
       "      <td>43</td>\n",
       "    </tr>\n",
       "  </tbody>\n",
       "</table>\n",
       "</div>"
      ],
      "text/plain": [
       "        date  avg_mph  temp_f\n",
       "0 2019-09-05    14.58      59\n",
       "1 2019-09-08    13.39      70\n",
       "2 2019-09-10    14.39      57\n",
       "3 2019-09-18    13.74      54\n",
       "4 2019-10-15    13.48      38\n",
       "5 2019-10-23    13.37      43"
      ]
     },
     "execution_count": 13,
     "metadata": {},
     "output_type": "execute_result"
    }
   ],
   "source": [
    "# Eric only ever used route D to go to work so I don't need to filter for destination.\n",
    "d_2019_df = (full_df.loc[\n",
    "             (full_df['route'] == 'D') & \n",
    "             (full_df['date'].dt.year == 2019)]\n",
    "             [['date', 'avg_mph', 'temp_f']]\n",
    "            ).reset_index(drop = True)\n",
    "\n",
    "d_2019_df"
   ]
  },
  {
   "cell_type": "code",
   "execution_count": 45,
   "id": "6bbfdd7e-2cc2-4e58-8b42-2ce86d0a1d3f",
   "metadata": {},
   "outputs": [
    {
     "data": {
      "text/plain": [
       "79"
      ]
     },
     "execution_count": 45,
     "metadata": {},
     "output_type": "execute_result"
    }
   ],
   "source": [
    "a_2019_df['date'][0].dayofyear"
   ]
  },
  {
   "cell_type": "code",
   "execution_count": 47,
   "id": "b68f4fe9-3989-4c70-ac32-3f9d125daddc",
   "metadata": {},
   "outputs": [
    {
     "data": {
      "text/html": [
       "<div>\n",
       "<style scoped>\n",
       "    .dataframe tbody tr th:only-of-type {\n",
       "        vertical-align: middle;\n",
       "    }\n",
       "\n",
       "    .dataframe tbody tr th {\n",
       "        vertical-align: top;\n",
       "    }\n",
       "\n",
       "    .dataframe thead th {\n",
       "        text-align: right;\n",
       "    }\n",
       "</style>\n",
       "<table border=\"1\" class=\"dataframe\">\n",
       "  <thead>\n",
       "    <tr style=\"text-align: right;\">\n",
       "      <th></th>\n",
       "      <th>date</th>\n",
       "      <th>avg_mph</th>\n",
       "      <th>temp_f</th>\n",
       "      <th>day_no</th>\n",
       "    </tr>\n",
       "  </thead>\n",
       "  <tbody>\n",
       "    <tr>\n",
       "      <th>0</th>\n",
       "      <td>2019-03-20</td>\n",
       "      <td>12.13</td>\n",
       "      <td>26</td>\n",
       "      <td>0</td>\n",
       "    </tr>\n",
       "    <tr>\n",
       "      <th>1</th>\n",
       "      <td>2019-03-28</td>\n",
       "      <td>12.68</td>\n",
       "      <td>39</td>\n",
       "      <td>8</td>\n",
       "    </tr>\n",
       "    <tr>\n",
       "      <th>2</th>\n",
       "      <td>2019-04-03</td>\n",
       "      <td>12.06</td>\n",
       "      <td>35</td>\n",
       "      <td>14</td>\n",
       "    </tr>\n",
       "    <tr>\n",
       "      <th>3</th>\n",
       "      <td>2019-04-09</td>\n",
       "      <td>12.18</td>\n",
       "      <td>58</td>\n",
       "      <td>20</td>\n",
       "    </tr>\n",
       "    <tr>\n",
       "      <th>4</th>\n",
       "      <td>2019-04-24</td>\n",
       "      <td>12.91</td>\n",
       "      <td>47</td>\n",
       "      <td>35</td>\n",
       "    </tr>\n",
       "  </tbody>\n",
       "</table>\n",
       "</div>"
      ],
      "text/plain": [
       "        date  avg_mph  temp_f  day_no\n",
       "0 2019-03-20    12.13      26       0\n",
       "1 2019-03-28    12.68      39       8\n",
       "2 2019-04-03    12.06      35      14\n",
       "3 2019-04-09    12.18      58      20\n",
       "4 2019-04-24    12.91      47      35"
      ]
     },
     "execution_count": 47,
     "metadata": {},
     "output_type": "execute_result"
    }
   ],
   "source": [
    "a_2019_df = (full_df.loc[\n",
    "             (full_df['route'] == 'A') & \n",
    "             (full_df['date'].dt.year == 2019) & \n",
    "             (full_df['destination'] == 'Work')]\n",
    "             [['date', 'avg_mph', 'temp_f']]\n",
    "            ).reset_index(drop = True).assign(day_no = lambda x: x['date'].dt.dayofyear - 79) # Start at the date of the first ride\n",
    "a_2019_df.head()"
   ]
  },
  {
   "cell_type": "markdown",
   "id": "6c4f44f7-2f45-4fc0-ac44-0d843e598603",
   "metadata": {},
   "source": [
    "### Hypothesis ###\n",
    "My hypothesis is that route D has some topographical/infrastructure features that enable a higher average speed. What are the chances we'd see speeds at least this extreme if Eric were to have continued riding only route A in 2019? I already observed a positive trend in Eric's average pace over time in 2019, especially on his morning commute. I need to model the time-series distribution of these speeds and see if I ever observe any times as extreme as those he posted on route D when he posted them in september and October."
   ]
  },
  {
   "cell_type": "code",
   "execution_count": 27,
   "id": "b975bfa6-6ae3-4839-9942-c939e63c2c84",
   "metadata": {},
   "outputs": [
    {
     "data": {
      "text/plain": [
       "count    14.000000\n",
       "mean     12.877857\n",
       "std       0.596595\n",
       "min      12.060000\n",
       "25%      12.375000\n",
       "50%      12.815000\n",
       "75%      13.257500\n",
       "max      13.850000\n",
       "Name: avg_mph, dtype: float64"
      ]
     },
     "execution_count": 27,
     "metadata": {},
     "output_type": "execute_result"
    }
   ],
   "source": [
    "early_morning_df = (full_df.loc[\n",
    "                        (full_df['destination'] == 'Work') & \n",
    "                        (full_df['route'] == 'A') & \n",
    "                        (full_df['date'].dt.month <= 4)][['date', 'avg_mph']])\n",
    "early_morning_df.avg_mph.describe()"
   ]
  },
  {
   "cell_type": "code",
   "execution_count": 41,
   "id": "af99b0a0-d739-4979-b022-72cd86a0508f",
   "metadata": {},
   "outputs": [
    {
     "data": {
      "text/plain": [
       "count    55.000000\n",
       "mean     13.422909\n",
       "std       0.558837\n",
       "min      12.060000\n",
       "25%      13.130000\n",
       "50%      13.560000\n",
       "75%      13.860000\n",
       "max      14.240000\n",
       "Name: avg_mph, dtype: float64"
      ]
     },
     "execution_count": 41,
     "metadata": {},
     "output_type": "execute_result"
    }
   ],
   "source": [
    "A_speed_df = (full_df.loc[\n",
    "                  (full_df['route'] == 'A') &\n",
    "                  (full_df['destination'] == 'Work')]\n",
    "                  [['date', 'avg_mph']])\n",
    "A_speed_df.avg_mph.describe()"
   ]
  },
  {
   "cell_type": "markdown",
   "id": "45bf91e0-8cb5-42be-8113-ab3bc19d0391",
   "metadata": {},
   "source": [
    "When Eric begins riding for the season (defined as rides in January, February, March, or April), on specifically route A, he averages a speed of almost 13 mph on his way to work, with a standard deviation of 0.6 mph. I'll use this information to create my prior for Eric's base fitness level. Overall, his morning route A commute speed has an observed std of 0.56 mph."
   ]
  },
  {
   "cell_type": "markdown",
   "id": "7e86a019-a30e-42ab-b47e-0b778e77c139",
   "metadata": {},
   "source": [
    "## Model ##\n",
    "\n",
    "### Assumptions ###\n",
    "* Fitness level can be treated as linear over this short amount of time. It's likely more of a logarithmic curve over longer periods and parabolic over a lifetime. I'll assume Eric has some base fitness intercept and a fitness factor slope that causes his fitness level to increase over time with training.\n",
    "\n",
    "    * $fitness_{day} = baseFitness + fitnessFactor * days + \\epsilon$\n",
    "\n",
    "* I'll assume that speed is directly proportional to fitness (disregarding temperature, route, day of the week, mood, etc.)\n",
    "* I'll assume that Eric's true average pace is normally distributed for any given day\n",
    "### Bayesian Model ###\n",
    "\n",
    "* $speed \\sim \\mathcal{N}(baseFitness + fitnessFactor * day, \\sigma)$\n",
    "    * $speed \\sim \\mathcal{N}(\\beta_0 + \\beta_1 * day, \\sigma)$\n",
    "### Priors ###\n",
    "* $\\beta_0 \\sim \\mathcal{N}(12.875, 0.6)$ Assume base fitness (in terms of early season avg_mph) is normally distributed and centered around 12.875 with std 0.6\n",
    "* $\\beta_1 \\sim \\mathcal{N}(0.01, 0.5)$ Assume a speed increase of 0.01 mph per day with a lot of uncertainty\n",
    "* $\\sigma \\sim \\mathcal{N}(0, 1)$ Assume a wide standard deviation of speed, centered around 0"
   ]
  },
  {
   "cell_type": "code",
   "execution_count": 57,
   "id": "67b1f161-0425-4472-b96b-2bc5fc6efd61",
   "metadata": {},
   "outputs": [],
   "source": [
    "X = a_2019_df['day_no']\n",
    "y = a_2019_df['avg_mph']\n",
    "\n",
    "#scaler = StandardScaler()\n",
    "#X_scaled = scaler.fit_transform(X)"
   ]
  },
  {
   "cell_type": "code",
   "execution_count": 60,
   "id": "7f421600-ec2a-435f-90c5-157fc2b25bd5",
   "metadata": {},
   "outputs": [
    {
     "name": "stderr",
     "output_type": "stream",
     "text": [
      "Auto-assigning NUTS sampler...\n",
      "Initializing NUTS using jitter+adapt_diag...\n",
      "Multiprocess sampling (4 chains in 4 jobs)\n",
      "NUTS: [beta_0, beta_1, sigma]\n"
     ]
    },
    {
     "data": {
      "text/html": [
       "<pre style=\"white-space:pre;overflow-x:auto;line-height:normal;font-family:Menlo,'DejaVu Sans Mono',consolas,'Courier New',monospace\">C:\\Users\\logan\\miniforge3\\envs\\brunner\\Lib\\site-packages\\rich\\live.py:231: UserWarning: install \"ipywidgets\" for \n",
       "Jupyter support\n",
       "  warnings.warn('install \"ipywidgets\" for Jupyter support')\n",
       "</pre>\n"
      ],
      "text/plain": [
       "C:\\Users\\logan\\miniforge3\\envs\\brunner\\Lib\\site-packages\\rich\\live.py:231: UserWarning: install \"ipywidgets\" for \n",
       "Jupyter support\n",
       "  warnings.warn('install \"ipywidgets\" for Jupyter support')\n"
      ]
     },
     "metadata": {},
     "output_type": "display_data"
    },
    {
     "data": {
      "text/html": [
       "<pre style=\"white-space:pre;overflow-x:auto;line-height:normal;font-family:Menlo,'DejaVu Sans Mono',consolas,'Courier New',monospace\"></pre>\n"
      ],
      "text/plain": []
     },
     "metadata": {},
     "output_type": "display_data"
    },
    {
     "data": {
      "text/html": [
       "<pre style=\"white-space:pre;overflow-x:auto;line-height:normal;font-family:Menlo,'DejaVu Sans Mono',consolas,'Courier New',monospace\">\n",
       "</pre>\n"
      ],
      "text/plain": [
       "\n"
      ]
     },
     "metadata": {},
     "output_type": "display_data"
    },
    {
     "name": "stderr",
     "output_type": "stream",
     "text": [
      "Sampling 4 chains for 1_000 tune and 2_000 draw iterations (4_000 + 8_000 draws total) took 22 seconds.\n"
     ]
    }
   ],
   "source": [
    "with pm.Model() as model:\n",
    "    beta_0 = pm.Normal('beta_0', mu = 12.875, sigma = 0.6) # Intercept prior\n",
    "    beta_1 = pm.Normal('beta_1', mu = 0.01, sigma = 0.5) # Slope prior\n",
    "    sigma = pm.Normal('sigma', mu = 0, sigma = 1) # Error term prior\n",
    "    \n",
    "    predicted_speed = beta_0 + beta_1 * X \n",
    "    likelihood = pm.Normal('likelihood', mu = predicted_speed, sigma = sigma, observed = y)\n",
    "\n",
    "    num_draws = 2000\n",
    "\n",
    "    trace = pm.sample(num_draws, tune = 1000)"
   ]
  }
 ],
 "metadata": {
  "kernelspec": {
   "display_name": "Python 3 (ipykernel)",
   "language": "python",
   "name": "python3"
  },
  "language_info": {
   "codemirror_mode": {
    "name": "ipython",
    "version": 3
   },
   "file_extension": ".py",
   "mimetype": "text/x-python",
   "name": "python",
   "nbconvert_exporter": "python",
   "pygments_lexer": "ipython3",
   "version": "3.12.3"
  }
 },
 "nbformat": 4,
 "nbformat_minor": 5
}
